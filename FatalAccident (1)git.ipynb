{
  "nbformat": 4,
  "nbformat_minor": 0,
  "metadata": {
    "colab": {
      "name": "FatalAccident.ipynb",
      "provenance": [],
      "collapsed_sections": []
    },
    "kernelspec": {
      "name": "python3",
      "display_name": "Python 3"
    }
  },
  "cells": [
    {
      "cell_type": "code",
      "metadata": {
        "colab": {
          "base_uri": "https://localhost:8080/"
        },
        "id": "rG4m0Gb56Mwv",
        "outputId": "cc41e812-c3a5-4cc4-8305-e368d6a4d6f8"
      },
      "source": [
        "from google.colab import drive\n",
        "drive.mount(\"/content/gdrive\")\n"
      ],
      "execution_count": 1,
      "outputs": [
        {
          "output_type": "stream",
          "text": [
            "Drive already mounted at /content/gdrive; to attempt to forcibly remount, call drive.mount(\"/content/gdrive\", force_remount=True).\n"
          ],
          "name": "stdout"
        }
      ]
    },
    {
      "cell_type": "code",
      "metadata": {
        "id": "UNGxQGk66oKq"
      },
      "source": [
        "path = '/content/gdrive/MyDrive/FARS2015NationalCSV/accident.csv'\n",
        "import pandas as pd \n",
        "import numpy as np \n",
        "import seaborn as sns \n",
        "import matplotlib.pyplot as plt\n"
      ],
      "execution_count": 2,
      "outputs": []
    },
    {
      "cell_type": "markdown",
      "metadata": {
        "id": "EWxqIOd8BXs-"
      },
      "source": [
        "# **Data Exploration and Analysis** \n",
        "\n",
        "Here we will analyze the data we have and try to draw some insights from them by graphs and plots. \n",
        "\n",
        "**Here we will focus on important factors which can be used to prevent future accidents** \n",
        "\n",
        "**The important factors we are going to focus are**\n",
        "\n",
        "* Estimation of Accident details based on State\n",
        "* Find out which state has more drunk drivers.\n",
        "* On which type of weather most accidents took place.\n",
        "* Manner of collision's lead to fatal accidents.\n",
        "* How harmful surrounding environment's role had been?\n",
        "* Accident's data related to Time, example (Month , Date etc..).\n",
        "\n",
        "\n"
      ]
    },
    {
      "cell_type": "markdown",
      "metadata": {
        "id": "vd6jjdhZJW36"
      },
      "source": [
        "## **Estimation of Accident details based on State**"
      ]
    },
    {
      "cell_type": "code",
      "metadata": {
        "colab": {
          "base_uri": "https://localhost:8080/",
          "height": 258
        },
        "id": "04puHV5UD9bU",
        "outputId": "02dc0f72-2233-4428-a443-6a9516debd68"
      },
      "source": [
        "accident_data = pd.read_csv(path)\n",
        "accident_data.head()"
      ],
      "execution_count": 3,
      "outputs": [
        {
          "output_type": "execute_result",
          "data": {
            "text/html": [
              "<div>\n",
              "<style scoped>\n",
              "    .dataframe tbody tr th:only-of-type {\n",
              "        vertical-align: middle;\n",
              "    }\n",
              "\n",
              "    .dataframe tbody tr th {\n",
              "        vertical-align: top;\n",
              "    }\n",
              "\n",
              "    .dataframe thead th {\n",
              "        text-align: right;\n",
              "    }\n",
              "</style>\n",
              "<table border=\"1\" class=\"dataframe\">\n",
              "  <thead>\n",
              "    <tr style=\"text-align: right;\">\n",
              "      <th></th>\n",
              "      <th>STATE</th>\n",
              "      <th>ST_CASE</th>\n",
              "      <th>VE_TOTAL</th>\n",
              "      <th>VE_FORMS</th>\n",
              "      <th>PVH_INVL</th>\n",
              "      <th>PEDS</th>\n",
              "      <th>PERNOTMVIT</th>\n",
              "      <th>PERMVIT</th>\n",
              "      <th>PERSONS</th>\n",
              "      <th>COUNTY</th>\n",
              "      <th>CITY</th>\n",
              "      <th>DAY</th>\n",
              "      <th>MONTH</th>\n",
              "      <th>YEAR</th>\n",
              "      <th>DAY_WEEK</th>\n",
              "      <th>HOUR</th>\n",
              "      <th>MINUTE</th>\n",
              "      <th>NHS</th>\n",
              "      <th>RUR_URB</th>\n",
              "      <th>FUNC_SYS</th>\n",
              "      <th>RD_OWNER</th>\n",
              "      <th>ROUTE</th>\n",
              "      <th>TWAY_ID</th>\n",
              "      <th>TWAY_ID2</th>\n",
              "      <th>MILEPT</th>\n",
              "      <th>LATITUDE</th>\n",
              "      <th>LONGITUD</th>\n",
              "      <th>SP_JUR</th>\n",
              "      <th>HARM_EV</th>\n",
              "      <th>MAN_COLL</th>\n",
              "      <th>RELJCT1</th>\n",
              "      <th>RELJCT2</th>\n",
              "      <th>TYP_INT</th>\n",
              "      <th>WRK_ZONE</th>\n",
              "      <th>REL_ROAD</th>\n",
              "      <th>LGT_COND</th>\n",
              "      <th>WEATHER1</th>\n",
              "      <th>WEATHER2</th>\n",
              "      <th>WEATHER</th>\n",
              "      <th>SCH_BUS</th>\n",
              "      <th>RAIL</th>\n",
              "      <th>NOT_HOUR</th>\n",
              "      <th>NOT_MIN</th>\n",
              "      <th>ARR_HOUR</th>\n",
              "      <th>ARR_MIN</th>\n",
              "      <th>HOSP_HR</th>\n",
              "      <th>HOSP_MN</th>\n",
              "      <th>CF1</th>\n",
              "      <th>CF2</th>\n",
              "      <th>CF3</th>\n",
              "      <th>FATALS</th>\n",
              "      <th>DRUNK_DR</th>\n",
              "    </tr>\n",
              "  </thead>\n",
              "  <tbody>\n",
              "    <tr>\n",
              "      <th>0</th>\n",
              "      <td>1</td>\n",
              "      <td>10001</td>\n",
              "      <td>1</td>\n",
              "      <td>1</td>\n",
              "      <td>0</td>\n",
              "      <td>0</td>\n",
              "      <td>0</td>\n",
              "      <td>1</td>\n",
              "      <td>1</td>\n",
              "      <td>127</td>\n",
              "      <td>0</td>\n",
              "      <td>1</td>\n",
              "      <td>1</td>\n",
              "      <td>2015</td>\n",
              "      <td>5</td>\n",
              "      <td>2</td>\n",
              "      <td>40</td>\n",
              "      <td>0</td>\n",
              "      <td>1</td>\n",
              "      <td>3</td>\n",
              "      <td>1</td>\n",
              "      <td>3</td>\n",
              "      <td>SR-5</td>\n",
              "      <td>NaN</td>\n",
              "      <td>1754</td>\n",
              "      <td>34</td>\n",
              "      <td>-87</td>\n",
              "      <td>0</td>\n",
              "      <td>35</td>\n",
              "      <td>0</td>\n",
              "      <td>0</td>\n",
              "      <td>1</td>\n",
              "      <td>1</td>\n",
              "      <td>0</td>\n",
              "      <td>4</td>\n",
              "      <td>2</td>\n",
              "      <td>1</td>\n",
              "      <td>0</td>\n",
              "      <td>1</td>\n",
              "      <td>0</td>\n",
              "      <td>0000000</td>\n",
              "      <td>99</td>\n",
              "      <td>99</td>\n",
              "      <td>2</td>\n",
              "      <td>58</td>\n",
              "      <td>88</td>\n",
              "      <td>88</td>\n",
              "      <td>0</td>\n",
              "      <td>0</td>\n",
              "      <td>0</td>\n",
              "      <td>1</td>\n",
              "      <td>1</td>\n",
              "    </tr>\n",
              "    <tr>\n",
              "      <th>1</th>\n",
              "      <td>1</td>\n",
              "      <td>10002</td>\n",
              "      <td>1</td>\n",
              "      <td>1</td>\n",
              "      <td>0</td>\n",
              "      <td>0</td>\n",
              "      <td>0</td>\n",
              "      <td>1</td>\n",
              "      <td>1</td>\n",
              "      <td>83</td>\n",
              "      <td>0</td>\n",
              "      <td>1</td>\n",
              "      <td>1</td>\n",
              "      <td>2015</td>\n",
              "      <td>5</td>\n",
              "      <td>22</td>\n",
              "      <td>13</td>\n",
              "      <td>1</td>\n",
              "      <td>1</td>\n",
              "      <td>1</td>\n",
              "      <td>1</td>\n",
              "      <td>1</td>\n",
              "      <td>I-65</td>\n",
              "      <td>NaN</td>\n",
              "      <td>3604</td>\n",
              "      <td>35</td>\n",
              "      <td>-87</td>\n",
              "      <td>0</td>\n",
              "      <td>34</td>\n",
              "      <td>0</td>\n",
              "      <td>0</td>\n",
              "      <td>1</td>\n",
              "      <td>1</td>\n",
              "      <td>0</td>\n",
              "      <td>3</td>\n",
              "      <td>2</td>\n",
              "      <td>10</td>\n",
              "      <td>0</td>\n",
              "      <td>10</td>\n",
              "      <td>0</td>\n",
              "      <td>0000000</td>\n",
              "      <td>99</td>\n",
              "      <td>99</td>\n",
              "      <td>22</td>\n",
              "      <td>20</td>\n",
              "      <td>88</td>\n",
              "      <td>88</td>\n",
              "      <td>0</td>\n",
              "      <td>0</td>\n",
              "      <td>0</td>\n",
              "      <td>1</td>\n",
              "      <td>0</td>\n",
              "    </tr>\n",
              "    <tr>\n",
              "      <th>2</th>\n",
              "      <td>1</td>\n",
              "      <td>10003</td>\n",
              "      <td>1</td>\n",
              "      <td>1</td>\n",
              "      <td>0</td>\n",
              "      <td>0</td>\n",
              "      <td>0</td>\n",
              "      <td>2</td>\n",
              "      <td>2</td>\n",
              "      <td>11</td>\n",
              "      <td>0</td>\n",
              "      <td>1</td>\n",
              "      <td>1</td>\n",
              "      <td>2015</td>\n",
              "      <td>5</td>\n",
              "      <td>1</td>\n",
              "      <td>25</td>\n",
              "      <td>0</td>\n",
              "      <td>1</td>\n",
              "      <td>3</td>\n",
              "      <td>1</td>\n",
              "      <td>2</td>\n",
              "      <td>US-SR 6</td>\n",
              "      <td>NaN</td>\n",
              "      <td>1958</td>\n",
              "      <td>32</td>\n",
              "      <td>-86</td>\n",
              "      <td>0</td>\n",
              "      <td>42</td>\n",
              "      <td>0</td>\n",
              "      <td>0</td>\n",
              "      <td>1</td>\n",
              "      <td>1</td>\n",
              "      <td>0</td>\n",
              "      <td>4</td>\n",
              "      <td>2</td>\n",
              "      <td>1</td>\n",
              "      <td>0</td>\n",
              "      <td>1</td>\n",
              "      <td>0</td>\n",
              "      <td>0000000</td>\n",
              "      <td>99</td>\n",
              "      <td>99</td>\n",
              "      <td>1</td>\n",
              "      <td>45</td>\n",
              "      <td>99</td>\n",
              "      <td>99</td>\n",
              "      <td>0</td>\n",
              "      <td>0</td>\n",
              "      <td>0</td>\n",
              "      <td>1</td>\n",
              "      <td>1</td>\n",
              "    </tr>\n",
              "    <tr>\n",
              "      <th>3</th>\n",
              "      <td>1</td>\n",
              "      <td>10004</td>\n",
              "      <td>1</td>\n",
              "      <td>1</td>\n",
              "      <td>0</td>\n",
              "      <td>0</td>\n",
              "      <td>0</td>\n",
              "      <td>1</td>\n",
              "      <td>1</td>\n",
              "      <td>45</td>\n",
              "      <td>0</td>\n",
              "      <td>4</td>\n",
              "      <td>1</td>\n",
              "      <td>2015</td>\n",
              "      <td>1</td>\n",
              "      <td>0</td>\n",
              "      <td>57</td>\n",
              "      <td>0</td>\n",
              "      <td>1</td>\n",
              "      <td>4</td>\n",
              "      <td>1</td>\n",
              "      <td>3</td>\n",
              "      <td>SR-27</td>\n",
              "      <td>NaN</td>\n",
              "      <td>566</td>\n",
              "      <td>31</td>\n",
              "      <td>-86</td>\n",
              "      <td>0</td>\n",
              "      <td>53</td>\n",
              "      <td>0</td>\n",
              "      <td>0</td>\n",
              "      <td>1</td>\n",
              "      <td>1</td>\n",
              "      <td>0</td>\n",
              "      <td>4</td>\n",
              "      <td>2</td>\n",
              "      <td>10</td>\n",
              "      <td>0</td>\n",
              "      <td>10</td>\n",
              "      <td>0</td>\n",
              "      <td>0000000</td>\n",
              "      <td>99</td>\n",
              "      <td>99</td>\n",
              "      <td>1</td>\n",
              "      <td>15</td>\n",
              "      <td>88</td>\n",
              "      <td>88</td>\n",
              "      <td>0</td>\n",
              "      <td>0</td>\n",
              "      <td>0</td>\n",
              "      <td>1</td>\n",
              "      <td>1</td>\n",
              "    </tr>\n",
              "    <tr>\n",
              "      <th>4</th>\n",
              "      <td>1</td>\n",
              "      <td>10005</td>\n",
              "      <td>2</td>\n",
              "      <td>2</td>\n",
              "      <td>0</td>\n",
              "      <td>0</td>\n",
              "      <td>0</td>\n",
              "      <td>2</td>\n",
              "      <td>2</td>\n",
              "      <td>45</td>\n",
              "      <td>2050</td>\n",
              "      <td>7</td>\n",
              "      <td>1</td>\n",
              "      <td>2015</td>\n",
              "      <td>4</td>\n",
              "      <td>7</td>\n",
              "      <td>9</td>\n",
              "      <td>0</td>\n",
              "      <td>2</td>\n",
              "      <td>3</td>\n",
              "      <td>1</td>\n",
              "      <td>2</td>\n",
              "      <td>US-SR 53</td>\n",
              "      <td>HINTON WATERS AVE</td>\n",
              "      <td>308</td>\n",
              "      <td>31</td>\n",
              "      <td>-86</td>\n",
              "      <td>0</td>\n",
              "      <td>12</td>\n",
              "      <td>6</td>\n",
              "      <td>0</td>\n",
              "      <td>2</td>\n",
              "      <td>3</td>\n",
              "      <td>0</td>\n",
              "      <td>1</td>\n",
              "      <td>1</td>\n",
              "      <td>1</td>\n",
              "      <td>0</td>\n",
              "      <td>1</td>\n",
              "      <td>0</td>\n",
              "      <td>0000000</td>\n",
              "      <td>99</td>\n",
              "      <td>99</td>\n",
              "      <td>7</td>\n",
              "      <td>16</td>\n",
              "      <td>88</td>\n",
              "      <td>88</td>\n",
              "      <td>0</td>\n",
              "      <td>0</td>\n",
              "      <td>0</td>\n",
              "      <td>1</td>\n",
              "      <td>0</td>\n",
              "    </tr>\n",
              "  </tbody>\n",
              "</table>\n",
              "</div>"
            ],
            "text/plain": [
              "   STATE  ST_CASE  VE_TOTAL  VE_FORMS  ...  CF2  CF3  FATALS  DRUNK_DR\n",
              "0      1    10001         1         1  ...    0    0       1         1\n",
              "1      1    10002         1         1  ...    0    0       1         0\n",
              "2      1    10003         1         1  ...    0    0       1         1\n",
              "3      1    10004         1         1  ...    0    0       1         1\n",
              "4      1    10005         2         2  ...    0    0       1         0\n",
              "\n",
              "[5 rows x 52 columns]"
            ]
          },
          "metadata": {
            "tags": []
          },
          "execution_count": 3
        }
      ]
    },
    {
      "cell_type": "code",
      "metadata": {
        "id": "Kr2pUqodD9ex"
      },
      "source": [
        "# Replacing the numbers in the data with State's Acronym\n",
        "\n",
        "states_acro = {1: 'AL', 2: 'AK', 4: 'AZ', 5: 'AR', \n",
        "          6: 'CA', 8: 'CO', 9: 'CT', 10: 'DE', \n",
        "          11: 'DC', 12: 'FL', 13: 'GA', 15: 'HI', \n",
        "          16: 'ID', 17: 'IL', 18: 'IN', 19: 'IA', 20: 'KS', \n",
        "          21: 'KY', 22: 'LA', 23: 'ME', 24: 'MD', \n",
        "          25: 'MA', 26: 'MI', 27: 'MN', \n",
        "          28:'MS', 29: 'MO', 30: 'MT', 31: 'NE', \n",
        "          32: 'NV', 33: 'NH', 34: 'NJ', 35: 'NM', \n",
        "          36: 'NY', 37: 'NC', 38: 'ND', 39: 'OH', \n",
        "          40: 'OK', 41: 'OR', 42: 'PN', 43: 'PR', \n",
        "          44: 'RI', 45: 'SC', 46: 'SD', 47: 'TN', \n",
        "          48: 'TX', 49: 'UT', 50: 'VT', 51: 'VA', 52: 'VI', \n",
        "          53: 'WA', 54: 'WV', 55: 'WI', 56: 'WY'}\n",
        "\n"
      ],
      "execution_count": 4,
      "outputs": []
    },
    {
      "cell_type": "markdown",
      "metadata": {
        "id": "RM-R74LJJevJ"
      },
      "source": [
        "### Which state has more number of accidents ? "
      ]
    },
    {
      "cell_type": "code",
      "metadata": {
        "colab": {
          "base_uri": "https://localhost:8080/",
          "height": 951
        },
        "id": "tMzAqjo0D9lc",
        "outputId": "dc8ee7ef-a7dd-4dc4-b697-9dc71eade285"
      },
      "source": [
        "accident_data['state_acro']=accident_data['STATE'].apply(lambda x: states_acro[x])\n",
        "Total_ac=accident_data['state_acro'].value_counts()\n",
        "accident_data['state_acro'].value_counts().plot(kind='barh',title='state-wise accidents' , figsize = (22 , 16))"
      ],
      "execution_count": 5,
      "outputs": [
        {
          "output_type": "execute_result",
          "data": {
            "text/plain": [
              "<matplotlib.axes._subplots.AxesSubplot at 0x7fb0419e8a58>"
            ]
          },
          "metadata": {
            "tags": []
          },
          "execution_count": 5
        },
        {
          "output_type": "display_data",
          "data": {
            "image/png": "[encoded data removed]",
            "text/plain": [
              "<Figure size 1584x1152 with 1 Axes>"
            ]
          },
          "metadata": {
            "tags": [],
            "needs_background": "light"
          }
        }
      ]
    },
    {
      "cell_type": "markdown",
      "metadata": {
        "id": "ZTiW8JglJk3t"
      },
      "source": [
        "### Which state has most number of drunk drivers ? "
      ]
    },
    {
      "cell_type": "code",
      "metadata": {
        "colab": {
          "base_uri": "https://localhost:8080/",
          "height": 951
        },
        "id": "ZDS6J7yBD9ph",
        "outputId": "038ab7dc-a858-46c8-b875-30f5be4c7240"
      },
      "source": [
        "drunk_data=pd.concat([accident_data['state_acro'],accident_data['DRUNK_DR']],axis=1)\n",
        "drunk_state=drunk_data.groupby('state_acro')\n",
        "drunk_state.sum().sort_values(by='DRUNK_DR',ascending=False).plot(kind='barh',title='state-wise drunk drivers' , figsize = (22 , 16))\n"
      ],
      "execution_count": 6,
      "outputs": [
        {
          "output_type": "execute_result",
          "data": {
            "text/plain": [
              "<matplotlib.axes._subplots.AxesSubplot at 0x7fb041856cf8>"
            ]
          },
          "metadata": {
            "tags": []
          },
          "execution_count": 6
        },
        {
          "output_type": "display_data",
          "data": {
            "image/png": "[encoded data removed]",
            "text/plain": [
              "<Figure size 1584x1152 with 1 Axes>"
            ]
          },
          "metadata": {
            "tags": [],
            "needs_background": "light"
          }
        }
      ]
    },
    {
      "cell_type": "markdown",
      "metadata": {
        "id": "Nz11qIBEJqfT"
      },
      "source": [
        "### Analyzing state with number of drunk and non-drunk drivers "
      ]
    },
    {
      "cell_type": "code",
      "metadata": {
        "colab": {
          "base_uri": "https://localhost:8080/",
          "height": 880
        },
        "id": "UezY8iqNF6zt",
        "outputId": "8e13e5b7-4acb-4c84-f7c8-c1916af213c0"
      },
      "source": [
        "Total_ac.sort_index(ascending=True)\n",
        "drunk_break=pd.concat([Total_ac.sort_index(ascending=True),drunk_state.sum()],axis=1)\n",
        "drunk_break.columns=['People_involved','Drunk_drivers']\n",
        "drunk_break['NoN Drinking individuals']= drunk_break['People_involved']-drunk_break['Drunk_drivers']\n",
        "drunk_break[['NoN Drinking individuals','Drunk_drivers']].sort_values(\n",
        "    by='NoN Drinking individuals',ascending=False).plot.barh(stacked='True' , figsize = (20 , 15))"
      ],
      "execution_count": 7,
      "outputs": [
        {
          "output_type": "execute_result",
          "data": {
            "text/plain": [
              "<matplotlib.axes._subplots.AxesSubplot at 0x7fb040f94898>"
            ]
          },
          "metadata": {
            "tags": []
          },
          "execution_count": 7
        },
        {
          "output_type": "display_data",
          "data": {
            "image/png": "[encoded data removed]",
            "text/plain": [
              "<Figure size 1440x1080 with 1 Axes>"
            ]
          },
          "metadata": {
            "tags": [],
            "needs_background": "light"
          }
        }
      ]
    },
    {
      "cell_type": "markdown",
      "metadata": {
        "id": "1t9Ac6y_JwJ0"
      },
      "source": [
        "### Estimating the Drunk drivers per population of the state"
      ]
    },
    {
      "cell_type": "code",
      "metadata": {
        "colab": {
          "base_uri": "https://localhost:8080/",
          "height": 826
        },
        "id": "Nnhxui3tF67T",
        "outputId": "9f57404b-80d4-4f05-8ae8-a5c83c042bda"
      },
      "source": [
        "drunk_break['Drunk_Dr_per_population']= drunk_break['Drunk_drivers']/drunk_break['People_involved']\n",
        "drunk_break.head()\n",
        "drunk_break[['Drunk_Dr_per_population']].sort_values(by='Drunk_Dr_per_population',ascending=False).plot(kind='barh' , figsize = (20 , 14))"
      ],
      "execution_count": 8,
      "outputs": [
        {
          "output_type": "execute_result",
          "data": {
            "text/plain": [
              "<matplotlib.axes._subplots.AxesSubplot at 0x7fb041292518>"
            ]
          },
          "metadata": {
            "tags": []
          },
          "execution_count": 8
        },
        {
          "output_type": "display_data",
          "data": {
            "image/png": "[encoded data removed]",
            "text/plain": [
              "<Figure size 1440x1008 with 1 Axes>"
            ]
          },
          "metadata": {
            "tags": [],
            "needs_background": "light"
          }
        }
      ]
    },
    {
      "cell_type": "markdown",
      "metadata": {
        "id": "fyEa9HHbDtGD"
      },
      "source": [
        "## **Find out which state has more drunk drivers**\n",
        "\n",
        "From the collective states, we will make some analysis and find out which state has more drunk drivers"
      ]
    },
    {
      "cell_type": "code",
      "metadata": {
        "colab": {
          "base_uri": "https://localhost:8080/",
          "height": 258
        },
        "id": "GhwoGSM6Dw6S",
        "outputId": "23a55cbd-05b2-4e1e-d766-7d719f7369f4"
      },
      "source": [
        "# Making a copy of our dataframe \n",
        "\n",
        "accident_drunk = accident_data.copy()\n",
        "accident_drunk.head()"
      ],
      "execution_count": 9,
      "outputs": [
        {
          "output_type": "execute_result",
          "data": {
            "text/html": [
              "<div>\n",
              "<style scoped>\n",
              "    .dataframe tbody tr th:only-of-type {\n",
              "        vertical-align: middle;\n",
              "    }\n",
              "\n",
              "    .dataframe tbody tr th {\n",
              "        vertical-align: top;\n",
              "    }\n",
              "\n",
              "    .dataframe thead th {\n",
              "        text-align: right;\n",
              "    }\n",
              "</style>\n",
              "<table border=\"1\" class=\"dataframe\">\n",
              "  <thead>\n",
              "    <tr style=\"text-align: right;\">\n",
              "      <th></th>\n",
              "      <th>STATE</th>\n",
              "      <th>ST_CASE</th>\n",
              "      <th>VE_TOTAL</th>\n",
              "      <th>VE_FORMS</th>\n",
              "      <th>PVH_INVL</th>\n",
              "      <th>PEDS</th>\n",
              "      <th>PERNOTMVIT</th>\n",
              "      <th>PERMVIT</th>\n",
              "      <th>PERSONS</th>\n",
              "      <th>COUNTY</th>\n",
              "      <th>CITY</th>\n",
              "      <th>DAY</th>\n",
              "      <th>MONTH</th>\n",
              "      <th>YEAR</th>\n",
              "      <th>DAY_WEEK</th>\n",
              "      <th>HOUR</th>\n",
              "      <th>MINUTE</th>\n",
              "      <th>NHS</th>\n",
              "      <th>RUR_URB</th>\n",
              "      <th>FUNC_SYS</th>\n",
              "      <th>RD_OWNER</th>\n",
              "      <th>ROUTE</th>\n",
              "      <th>TWAY_ID</th>\n",
              "      <th>TWAY_ID2</th>\n",
              "      <th>MILEPT</th>\n",
              "      <th>LATITUDE</th>\n",
              "      <th>LONGITUD</th>\n",
              "      <th>SP_JUR</th>\n",
              "      <th>HARM_EV</th>\n",
              "      <th>MAN_COLL</th>\n",
              "      <th>RELJCT1</th>\n",
              "      <th>RELJCT2</th>\n",
              "      <th>TYP_INT</th>\n",
              "      <th>WRK_ZONE</th>\n",
              "      <th>REL_ROAD</th>\n",
              "      <th>LGT_COND</th>\n",
              "      <th>WEATHER1</th>\n",
              "      <th>WEATHER2</th>\n",
              "      <th>WEATHER</th>\n",
              "      <th>SCH_BUS</th>\n",
              "      <th>RAIL</th>\n",
              "      <th>NOT_HOUR</th>\n",
              "      <th>NOT_MIN</th>\n",
              "      <th>ARR_HOUR</th>\n",
              "      <th>ARR_MIN</th>\n",
              "      <th>HOSP_HR</th>\n",
              "      <th>HOSP_MN</th>\n",
              "      <th>CF1</th>\n",
              "      <th>CF2</th>\n",
              "      <th>CF3</th>\n",
              "      <th>FATALS</th>\n",
              "      <th>DRUNK_DR</th>\n",
              "      <th>state_acro</th>\n",
              "    </tr>\n",
              "  </thead>\n",
              "  <tbody>\n",
              "    <tr>\n",
              "      <th>0</th>\n",
              "      <td>1</td>\n",
              "      <td>10001</td>\n",
              "      <td>1</td>\n",
              "      <td>1</td>\n",
              "      <td>0</td>\n",
              "      <td>0</td>\n",
              "      <td>0</td>\n",
              "      <td>1</td>\n",
              "      <td>1</td>\n",
              "      <td>127</td>\n",
              "      <td>0</td>\n",
              "      <td>1</td>\n",
              "      <td>1</td>\n",
              "      <td>2015</td>\n",
              "      <td>5</td>\n",
              "      <td>2</td>\n",
              "      <td>40</td>\n",
              "      <td>0</td>\n",
              "      <td>1</td>\n",
              "      <td>3</td>\n",
              "      <td>1</td>\n",
              "      <td>3</td>\n",
              "      <td>SR-5</td>\n",
              "      <td>NaN</td>\n",
              "      <td>1754</td>\n",
              "      <td>34</td>\n",
              "      <td>-87</td>\n",
              "      <td>0</td>\n",
              "      <td>35</td>\n",
              "      <td>0</td>\n",
              "      <td>0</td>\n",
              "      <td>1</td>\n",
              "      <td>1</td>\n",
              "      <td>0</td>\n",
              "      <td>4</td>\n",
              "      <td>2</td>\n",
              "      <td>1</td>\n",
              "      <td>0</td>\n",
              "      <td>1</td>\n",
              "      <td>0</td>\n",
              "      <td>0000000</td>\n",
              "      <td>99</td>\n",
              "      <td>99</td>\n",
              "      <td>2</td>\n",
              "      <td>58</td>\n",
              "      <td>88</td>\n",
              "      <td>88</td>\n",
              "      <td>0</td>\n",
              "      <td>0</td>\n",
              "      <td>0</td>\n",
              "      <td>1</td>\n",
              "      <td>1</td>\n",
              "      <td>AL</td>\n",
              "    </tr>\n",
              "    <tr>\n",
              "      <th>1</th>\n",
              "      <td>1</td>\n",
              "      <td>10002</td>\n",
              "      <td>1</td>\n",
              "      <td>1</td>\n",
              "      <td>0</td>\n",
              "      <td>0</td>\n",
              "      <td>0</td>\n",
              "      <td>1</td>\n",
              "      <td>1</td>\n",
              "      <td>83</td>\n",
              "      <td>0</td>\n",
              "      <td>1</td>\n",
              "      <td>1</td>\n",
              "      <td>2015</td>\n",
              "      <td>5</td>\n",
              "      <td>22</td>\n",
              "      <td>13</td>\n",
              "      <td>1</td>\n",
              "      <td>1</td>\n",
              "      <td>1</td>\n",
              "      <td>1</td>\n",
              "      <td>1</td>\n",
              "      <td>I-65</td>\n",
              "      <td>NaN</td>\n",
              "      <td>3604</td>\n",
              "      <td>35</td>\n",
              "      <td>-87</td>\n",
              "      <td>0</td>\n",
              "      <td>34</td>\n",
              "      <td>0</td>\n",
              "      <td>0</td>\n",
              "      <td>1</td>\n",
              "      <td>1</td>\n",
              "      <td>0</td>\n",
              "      <td>3</td>\n",
              "      <td>2</td>\n",
              "      <td>10</td>\n",
              "      <td>0</td>\n",
              "      <td>10</td>\n",
              "      <td>0</td>\n",
              "      <td>0000000</td>\n",
              "      <td>99</td>\n",
              "      <td>99</td>\n",
              "      <td>22</td>\n",
              "      <td>20</td>\n",
              "      <td>88</td>\n",
              "      <td>88</td>\n",
              "      <td>0</td>\n",
              "      <td>0</td>\n",
              "      <td>0</td>\n",
              "      <td>1</td>\n",
              "      <td>0</td>\n",
              "      <td>AL</td>\n",
              "    </tr>\n",
              "    <tr>\n",
              "      <th>2</th>\n",
              "      <td>1</td>\n",
              "      <td>10003</td>\n",
              "      <td>1</td>\n",
              "      <td>1</td>\n",
              "      <td>0</td>\n",
              "      <td>0</td>\n",
              "      <td>0</td>\n",
              "      <td>2</td>\n",
              "      <td>2</td>\n",
              "      <td>11</td>\n",
              "      <td>0</td>\n",
              "      <td>1</td>\n",
              "      <td>1</td>\n",
              "      <td>2015</td>\n",
              "      <td>5</td>\n",
              "      <td>1</td>\n",
              "      <td>25</td>\n",
              "      <td>0</td>\n",
              "      <td>1</td>\n",
              "      <td>3</td>\n",
              "      <td>1</td>\n",
              "      <td>2</td>\n",
              "      <td>US-SR 6</td>\n",
              "      <td>NaN</td>\n",
              "      <td>1958</td>\n",
              "      <td>32</td>\n",
              "      <td>-86</td>\n",
              "      <td>0</td>\n",
              "      <td>42</td>\n",
              "      <td>0</td>\n",
              "      <td>0</td>\n",
              "      <td>1</td>\n",
              "      <td>1</td>\n",
              "      <td>0</td>\n",
              "      <td>4</td>\n",
              "      <td>2</td>\n",
              "      <td>1</td>\n",
              "      <td>0</td>\n",
              "      <td>1</td>\n",
              "      <td>0</td>\n",
              "      <td>0000000</td>\n",
              "      <td>99</td>\n",
              "      <td>99</td>\n",
              "      <td>1</td>\n",
              "      <td>45</td>\n",
              "      <td>99</td>\n",
              "      <td>99</td>\n",
              "      <td>0</td>\n",
              "      <td>0</td>\n",
              "      <td>0</td>\n",
              "      <td>1</td>\n",
              "      <td>1</td>\n",
              "      <td>AL</td>\n",
              "    </tr>\n",
              "    <tr>\n",
              "      <th>3</th>\n",
              "      <td>1</td>\n",
              "      <td>10004</td>\n",
              "      <td>1</td>\n",
              "      <td>1</td>\n",
              "      <td>0</td>\n",
              "      <td>0</td>\n",
              "      <td>0</td>\n",
              "      <td>1</td>\n",
              "      <td>1</td>\n",
              "      <td>45</td>\n",
              "      <td>0</td>\n",
              "      <td>4</td>\n",
              "      <td>1</td>\n",
              "      <td>2015</td>\n",
              "      <td>1</td>\n",
              "      <td>0</td>\n",
              "      <td>57</td>\n",
              "      <td>0</td>\n",
              "      <td>1</td>\n",
              "      <td>4</td>\n",
              "      <td>1</td>\n",
              "      <td>3</td>\n",
              "      <td>SR-27</td>\n",
              "      <td>NaN</td>\n",
              "      <td>566</td>\n",
              "      <td>31</td>\n",
              "      <td>-86</td>\n",
              "      <td>0</td>\n",
              "      <td>53</td>\n",
              "      <td>0</td>\n",
              "      <td>0</td>\n",
              "      <td>1</td>\n",
              "      <td>1</td>\n",
              "      <td>0</td>\n",
              "      <td>4</td>\n",
              "      <td>2</td>\n",
              "      <td>10</td>\n",
              "      <td>0</td>\n",
              "      <td>10</td>\n",
              "      <td>0</td>\n",
              "      <td>0000000</td>\n",
              "      <td>99</td>\n",
              "      <td>99</td>\n",
              "      <td>1</td>\n",
              "      <td>15</td>\n",
              "      <td>88</td>\n",
              "      <td>88</td>\n",
              "      <td>0</td>\n",
              "      <td>0</td>\n",
              "      <td>0</td>\n",
              "      <td>1</td>\n",
              "      <td>1</td>\n",
              "      <td>AL</td>\n",
              "    </tr>\n",
              "    <tr>\n",
              "      <th>4</th>\n",
              "      <td>1</td>\n",
              "      <td>10005</td>\n",
              "      <td>2</td>\n",
              "      <td>2</td>\n",
              "      <td>0</td>\n",
              "      <td>0</td>\n",
              "      <td>0</td>\n",
              "      <td>2</td>\n",
              "      <td>2</td>\n",
              "      <td>45</td>\n",
              "      <td>2050</td>\n",
              "      <td>7</td>\n",
              "      <td>1</td>\n",
              "      <td>2015</td>\n",
              "      <td>4</td>\n",
              "      <td>7</td>\n",
              "      <td>9</td>\n",
              "      <td>0</td>\n",
              "      <td>2</td>\n",
              "      <td>3</td>\n",
              "      <td>1</td>\n",
              "      <td>2</td>\n",
              "      <td>US-SR 53</td>\n",
              "      <td>HINTON WATERS AVE</td>\n",
              "      <td>308</td>\n",
              "      <td>31</td>\n",
              "      <td>-86</td>\n",
              "      <td>0</td>\n",
              "      <td>12</td>\n",
              "      <td>6</td>\n",
              "      <td>0</td>\n",
              "      <td>2</td>\n",
              "      <td>3</td>\n",
              "      <td>0</td>\n",
              "      <td>1</td>\n",
              "      <td>1</td>\n",
              "      <td>1</td>\n",
              "      <td>0</td>\n",
              "      <td>1</td>\n",
              "      <td>0</td>\n",
              "      <td>0000000</td>\n",
              "      <td>99</td>\n",
              "      <td>99</td>\n",
              "      <td>7</td>\n",
              "      <td>16</td>\n",
              "      <td>88</td>\n",
              "      <td>88</td>\n",
              "      <td>0</td>\n",
              "      <td>0</td>\n",
              "      <td>0</td>\n",
              "      <td>1</td>\n",
              "      <td>0</td>\n",
              "      <td>AL</td>\n",
              "    </tr>\n",
              "  </tbody>\n",
              "</table>\n",
              "</div>"
            ],
            "text/plain": [
              "   STATE  ST_CASE  VE_TOTAL  VE_FORMS  ...  CF3  FATALS  DRUNK_DR  state_acro\n",
              "0      1    10001         1         1  ...    0       1         1          AL\n",
              "1      1    10002         1         1  ...    0       1         0          AL\n",
              "2      1    10003         1         1  ...    0       1         1          AL\n",
              "3      1    10004         1         1  ...    0       1         1          AL\n",
              "4      1    10005         2         2  ...    0       1         0          AL\n",
              "\n",
              "[5 rows x 53 columns]"
            ]
          },
          "metadata": {
            "tags": []
          },
          "execution_count": 9
        }
      ]
    },
    {
      "cell_type": "code",
      "metadata": {
        "id": "cCQlHaLtERw2"
      },
      "source": [
        "# Below is the dictionary of State \n",
        "\n",
        "states = {1: 'Alabama', 2: 'Alaska', 4: 'Arizona', 5: 'Arkansas', \n",
        "          6: 'California', 8: 'Colorado', 9: 'Connecticut', 10: 'Delaware', \n",
        "          11: 'District of Columbia', 12: 'Florida', 13: 'Georgia', 15: 'Hawaii', \n",
        "          16: 'Idaho', 17: 'Illinois', 18: 'Indiana', 19: 'Iowa', 20: 'Kansas', \n",
        "          21: 'Kentucky', 22: 'Louisiana', 23: 'Maine', 24: 'Maryland', \n",
        "          25: 'Massachusetts', 26: 'Michigan', 27: 'Minnesota', \n",
        "          28: 'Mississippi', 29: 'Missouri', 30: 'Montana', 31: 'Nebraska', \n",
        "          32: 'Nevada', 33: 'New Hampshire', 34: 'New Jersey', 35: 'New Mexico', \n",
        "          36: 'New York', 37: 'North Carolina', 38: 'North Dakota', 39: 'Ohio', \n",
        "          40: 'Oklahoma', 41: 'Oregon', 42: 'Pennsylvania', 43: 'Puerto Rico', \n",
        "          44: 'Rhode Island', 45: 'South Carolina', 46: 'South Dakota', 47: 'Tennessee', \n",
        "          48: 'Texas', 49: 'Utah', 50: 'Vermont', 51: 'Virginia', 52: 'Virgin Islands', \n",
        "          53: 'Washington', 54: 'West Virginia', 55: 'Wisconsin', 56: 'Wyoming'}"
      ],
      "execution_count": 10,
      "outputs": []
    },
    {
      "cell_type": "code",
      "metadata": {
        "colab": {
          "base_uri": "https://localhost:8080/"
        },
        "id": "K77-4TG4Ed7_",
        "outputId": "d9e03c9d-26ff-46e8-d31a-28c3b1c45173"
      },
      "source": [
        "# Creating another column where the mapping for the state  \n",
        "accident_drunk['state']=accident_drunk['STATE'].apply(lambda x:states[x])\n",
        "accident_drunk['state']"
      ],
      "execution_count": 11,
      "outputs": [
        {
          "output_type": "execute_result",
          "data": {
            "text/plain": [
              "0        Alabama\n",
              "1        Alabama\n",
              "2        Alabama\n",
              "3        Alabama\n",
              "4        Alabama\n",
              "          ...   \n",
              "32161    Wyoming\n",
              "32162    Wyoming\n",
              "32163    Wyoming\n",
              "32164    Wyoming\n",
              "32165    Wyoming\n",
              "Name: state, Length: 32166, dtype: object"
            ]
          },
          "metadata": {
            "tags": []
          },
          "execution_count": 11
        }
      ]
    },
    {
      "cell_type": "code",
      "metadata": {
        "colab": {
          "base_uri": "https://localhost:8080/"
        },
        "id": "W_vyQoGwFbTF",
        "outputId": "e17ad174-59c2-4289-c5a4-8f3201ad9a4b"
      },
      "source": [
        "# Grouping by only the drunk driver's with respect to the states\n",
        "drunkdf =accident_drunk.groupby(['state']).agg({'DRUNK_DR':sum})\n",
        "\n",
        "# Below dataframe has the sum of drunk driver's in each state\n",
        "drunkdf , type(drunkdf)"
      ],
      "execution_count": 12,
      "outputs": [
        {
          "output_type": "execute_result",
          "data": {
            "text/plain": [
              "(                      DRUNK_DR\n",
              " state                         \n",
              " Alabama                    220\n",
              " Alaska                      24\n",
              " Arizona                    218\n",
              " Arkansas                   134\n",
              " California                 730\n",
              " Colorado                   176\n",
              " Connecticut                 95\n",
              " Delaware                    38\n",
              " District of Columbia         5\n",
              " Florida                    602\n",
              " Georgia                    308\n",
              " Hawaii                      25\n",
              " Idaho                       73\n",
              " Illinois                   282\n",
              " Indiana                    149\n",
              " Iowa                        80\n",
              " Kansas                      72\n",
              " Kentucky                   196\n",
              " Louisiana                  251\n",
              " Maine                       76\n",
              " Maryland                   153\n",
              " Massachusetts               77\n",
              " Michigan                   274\n",
              " Minnesota                  127\n",
              " Mississippi                125\n",
              " Missouri                   218\n",
              " Montana                     94\n",
              " Nebraska                    71\n",
              " Nevada                      99\n",
              " New Hampshire               34\n",
              " New Jersey                 113\n",
              " New Mexico                  86\n",
              " New York                   218\n",
              " North Carolina             397\n",
              " North Dakota                51\n",
              " Ohio                       337\n",
              " Oklahoma                   170\n",
              " Oregon                     151\n",
              " Pennsylvania               339\n",
              " Rhode Island                18\n",
              " South Carolina             298\n",
              " South Dakota                40\n",
              " Tennessee                  244\n",
              " Texas                      837\n",
              " Utah                        44\n",
              " Vermont                     14\n",
              " Virginia                   242\n",
              " Washington                 163\n",
              " West Virginia               75\n",
              " Wisconsin                  189\n",
              " Wyoming                     54, pandas.core.frame.DataFrame)"
            ]
          },
          "metadata": {
            "tags": []
          },
          "execution_count": 12
        }
      ]
    },
    {
      "cell_type": "code",
      "metadata": {
        "colab": {
          "base_uri": "https://localhost:8080/",
          "height": 1000
        },
        "id": "6El7Kzx6Fncs",
        "outputId": "5f522193-2cab-4530-ed78-db3063f23ad4"
      },
      "source": [
        "# Total counts of the state and converting to dataframe\n",
        "\n",
        "totalcount = accident_drunk['state'].value_counts().to_frame()\n",
        "totalcount"
      ],
      "execution_count": 13,
      "outputs": [
        {
          "output_type": "execute_result",
          "data": {
            "text/html": [
              "<div>\n",
              "<style scoped>\n",
              "    .dataframe tbody tr th:only-of-type {\n",
              "        vertical-align: middle;\n",
              "    }\n",
              "\n",
              "    .dataframe tbody tr th {\n",
              "        vertical-align: top;\n",
              "    }\n",
              "\n",
              "    .dataframe thead th {\n",
              "        text-align: right;\n",
              "    }\n",
              "</style>\n",
              "<table border=\"1\" class=\"dataframe\">\n",
              "  <thead>\n",
              "    <tr style=\"text-align: right;\">\n",
              "      <th></th>\n",
              "      <th>state</th>\n",
              "    </tr>\n",
              "  </thead>\n",
              "  <tbody>\n",
              "    <tr>\n",
              "      <th>Texas</th>\n",
              "      <td>3124</td>\n",
              "    </tr>\n",
              "    <tr>\n",
              "      <th>California</th>\n",
              "      <td>2925</td>\n",
              "    </tr>\n",
              "    <tr>\n",
              "      <th>Florida</th>\n",
              "      <td>2699</td>\n",
              "    </tr>\n",
              "    <tr>\n",
              "      <th>Georgia</th>\n",
              "      <td>1327</td>\n",
              "    </tr>\n",
              "    <tr>\n",
              "      <th>North Carolina</th>\n",
              "      <td>1275</td>\n",
              "    </tr>\n",
              "    <tr>\n",
              "      <th>Pennsylvania</th>\n",
              "      <td>1102</td>\n",
              "    </tr>\n",
              "    <tr>\n",
              "      <th>New York</th>\n",
              "      <td>1046</td>\n",
              "    </tr>\n",
              "    <tr>\n",
              "      <th>Ohio</th>\n",
              "      <td>1029</td>\n",
              "    </tr>\n",
              "    <tr>\n",
              "      <th>Illinois</th>\n",
              "      <td>914</td>\n",
              "    </tr>\n",
              "    <tr>\n",
              "      <th>South Carolina</th>\n",
              "      <td>909</td>\n",
              "    </tr>\n",
              "    <tr>\n",
              "      <th>Michigan</th>\n",
              "      <td>893</td>\n",
              "    </tr>\n",
              "    <tr>\n",
              "      <th>Tennessee</th>\n",
              "      <td>884</td>\n",
              "    </tr>\n",
              "    <tr>\n",
              "      <th>Arizona</th>\n",
              "      <td>810</td>\n",
              "    </tr>\n",
              "    <tr>\n",
              "      <th>Missouri</th>\n",
              "      <td>802</td>\n",
              "    </tr>\n",
              "    <tr>\n",
              "      <th>Alabama</th>\n",
              "      <td>783</td>\n",
              "    </tr>\n",
              "    <tr>\n",
              "      <th>Indiana</th>\n",
              "      <td>756</td>\n",
              "    </tr>\n",
              "    <tr>\n",
              "      <th>Virginia</th>\n",
              "      <td>711</td>\n",
              "    </tr>\n",
              "    <tr>\n",
              "      <th>Kentucky</th>\n",
              "      <td>694</td>\n",
              "    </tr>\n",
              "    <tr>\n",
              "      <th>Louisiana</th>\n",
              "      <td>674</td>\n",
              "    </tr>\n",
              "    <tr>\n",
              "      <th>Mississippi</th>\n",
              "      <td>604</td>\n",
              "    </tr>\n",
              "    <tr>\n",
              "      <th>Oklahoma</th>\n",
              "      <td>588</td>\n",
              "    </tr>\n",
              "    <tr>\n",
              "      <th>Wisconsin</th>\n",
              "      <td>523</td>\n",
              "    </tr>\n",
              "    <tr>\n",
              "      <th>New Jersey</th>\n",
              "      <td>522</td>\n",
              "    </tr>\n",
              "    <tr>\n",
              "      <th>Washington</th>\n",
              "      <td>516</td>\n",
              "    </tr>\n",
              "    <tr>\n",
              "      <th>Colorado</th>\n",
              "      <td>506</td>\n",
              "    </tr>\n",
              "    <tr>\n",
              "      <th>Arkansas</th>\n",
              "      <td>472</td>\n",
              "    </tr>\n",
              "    <tr>\n",
              "      <th>Maryland</th>\n",
              "      <td>472</td>\n",
              "    </tr>\n",
              "    <tr>\n",
              "      <th>Oregon</th>\n",
              "      <td>412</td>\n",
              "    </tr>\n",
              "    <tr>\n",
              "      <th>Minnesota</th>\n",
              "      <td>375</td>\n",
              "    </tr>\n",
              "    <tr>\n",
              "      <th>Kansas</th>\n",
              "      <td>322</td>\n",
              "    </tr>\n",
              "    <tr>\n",
              "      <th>Nevada</th>\n",
              "      <td>296</td>\n",
              "    </tr>\n",
              "    <tr>\n",
              "      <th>Massachusetts</th>\n",
              "      <td>291</td>\n",
              "    </tr>\n",
              "    <tr>\n",
              "      <th>Iowa</th>\n",
              "      <td>282</td>\n",
              "    </tr>\n",
              "    <tr>\n",
              "      <th>New Mexico</th>\n",
              "      <td>269</td>\n",
              "    </tr>\n",
              "    <tr>\n",
              "      <th>Utah</th>\n",
              "      <td>256</td>\n",
              "    </tr>\n",
              "    <tr>\n",
              "      <th>Connecticut</th>\n",
              "      <td>253</td>\n",
              "    </tr>\n",
              "    <tr>\n",
              "      <th>West Virginia</th>\n",
              "      <td>246</td>\n",
              "    </tr>\n",
              "    <tr>\n",
              "      <th>Nebraska</th>\n",
              "      <td>218</td>\n",
              "    </tr>\n",
              "    <tr>\n",
              "      <th>Montana</th>\n",
              "      <td>204</td>\n",
              "    </tr>\n",
              "    <tr>\n",
              "      <th>Idaho</th>\n",
              "      <td>198</td>\n",
              "    </tr>\n",
              "    <tr>\n",
              "      <th>Maine</th>\n",
              "      <td>144</td>\n",
              "    </tr>\n",
              "    <tr>\n",
              "      <th>Wyoming</th>\n",
              "      <td>129</td>\n",
              "    </tr>\n",
              "    <tr>\n",
              "      <th>Delaware</th>\n",
              "      <td>122</td>\n",
              "    </tr>\n",
              "    <tr>\n",
              "      <th>South Dakota</th>\n",
              "      <td>115</td>\n",
              "    </tr>\n",
              "    <tr>\n",
              "      <th>North Dakota</th>\n",
              "      <td>111</td>\n",
              "    </tr>\n",
              "    <tr>\n",
              "      <th>New Hampshire</th>\n",
              "      <td>103</td>\n",
              "    </tr>\n",
              "    <tr>\n",
              "      <th>Hawaii</th>\n",
              "      <td>86</td>\n",
              "    </tr>\n",
              "    <tr>\n",
              "      <th>Alaska</th>\n",
              "      <td>60</td>\n",
              "    </tr>\n",
              "    <tr>\n",
              "      <th>Vermont</th>\n",
              "      <td>50</td>\n",
              "    </tr>\n",
              "    <tr>\n",
              "      <th>Rhode Island</th>\n",
              "      <td>41</td>\n",
              "    </tr>\n",
              "    <tr>\n",
              "      <th>District of Columbia</th>\n",
              "      <td>23</td>\n",
              "    </tr>\n",
              "  </tbody>\n",
              "</table>\n",
              "</div>"
            ],
            "text/plain": [
              "                      state\n",
              "Texas                  3124\n",
              "California             2925\n",
              "Florida                2699\n",
              "Georgia                1327\n",
              "North Carolina         1275\n",
              "Pennsylvania           1102\n",
              "New York               1046\n",
              "Ohio                   1029\n",
              "Illinois                914\n",
              "South Carolina          909\n",
              "Michigan                893\n",
              "Tennessee               884\n",
              "Arizona                 810\n",
              "Missouri                802\n",
              "Alabama                 783\n",
              "Indiana                 756\n",
              "Virginia                711\n",
              "Kentucky                694\n",
              "Louisiana               674\n",
              "Mississippi             604\n",
              "Oklahoma                588\n",
              "Wisconsin               523\n",
              "New Jersey              522\n",
              "Washington              516\n",
              "Colorado                506\n",
              "Arkansas                472\n",
              "Maryland                472\n",
              "Oregon                  412\n",
              "Minnesota               375\n",
              "Kansas                  322\n",
              "Nevada                  296\n",
              "Massachusetts           291\n",
              "Iowa                    282\n",
              "New Mexico              269\n",
              "Utah                    256\n",
              "Connecticut             253\n",
              "West Virginia           246\n",
              "Nebraska                218\n",
              "Montana                 204\n",
              "Idaho                   198\n",
              "Maine                   144\n",
              "Wyoming                 129\n",
              "Delaware                122\n",
              "South Dakota            115\n",
              "North Dakota            111\n",
              "New Hampshire           103\n",
              "Hawaii                   86\n",
              "Alaska                   60\n",
              "Vermont                  50\n",
              "Rhode Island             41\n",
              "District of Columbia     23"
            ]
          },
          "metadata": {
            "tags": []
          },
          "execution_count": 13
        }
      ]
    },
    {
      "cell_type": "code",
      "metadata": {
        "colab": {
          "base_uri": "https://localhost:8080/"
        },
        "id": "v9hB3nvWI_kZ",
        "outputId": "05274732-769d-4296-9c10-252fcabf1206"
      },
      "source": [
        "# From the new totalcount df , we derive the drunk driver per in the whole state\n",
        "\n",
        "drunkdf['total']=totalcount['state'] # adding this to drunk dataframe\n",
        "drunkdf['per']=drunkdf['DRUNK_DR']/drunkdf['total'] # calculating per captia\n",
        "drunkdf['per']=drunkdf['per']*100\n",
        "drunkdf=drunkdf.sort_values(by='per' , ascending=False) # Sort by the percentage \n",
        "print(drunkdf.head()) # Percentage of drunk drivers in the state "
      ],
      "execution_count": 14,
      "outputs": [
        {
          "output_type": "stream",
          "text": [
            "              DRUNK_DR  total        per\n",
            "state                                   \n",
            "Maine               76    144  52.777778\n",
            "Montana             94    204  46.078431\n",
            "North Dakota        51    111  45.945946\n",
            "Rhode Island        18     41  43.902439\n",
            "Wyoming             54    129  41.860465\n"
          ],
          "name": "stdout"
        }
      ]
    },
    {
      "cell_type": "code",
      "metadata": {
        "colab": {
          "base_uri": "https://localhost:8080/",
          "height": 621
        },
        "id": "xqExuwvlJ99F",
        "outputId": "a831154c-3c90-4941-e9da-a399907a8c85"
      },
      "source": [
        "# Plotting the data to estimate Top 20 \n",
        "\n",
        "drunkdf=drunkdf.head(20)\n",
        "fig , ax = plt.subplots(figsize = (10 , 10))\n",
        "sns.barplot(x=drunkdf.per,y=drunkdf.index , orient='h')\n",
        "ax.set(\n",
        "    xlabel = 'Percentage of drunk drivers over total drivers' , \n",
        "    ylabel = 'State'\n",
        ")\n",
        "plt.title('Top 20 most drunk drivers states')\n",
        "plt.show()\n"
      ],
      "execution_count": 15,
      "outputs": [
        {
          "output_type": "display_data",
          "data": {
            "image/png": "[encoded data removed]",
            "text/plain": [
              "<Figure size 720x720 with 1 Axes>"
            ]
          },
          "metadata": {
            "tags": [],
            "needs_background": "light"
          }
        }
      ]
    },
    {
      "cell_type": "markdown",
      "metadata": {
        "id": "bJUjKSjYOMoX"
      },
      "source": [
        "**Maine has more drunk drivers than other state**"
      ]
    },
    {
      "cell_type": "markdown",
      "metadata": {
        "id": "DCZ2RVzdj2Nr"
      },
      "source": [
        "## **On which type of weather most accidents took place**\n",
        "\n",
        "From the given data, we will find at which type of weather most accidents took place."
      ]
    },
    {
      "cell_type": "code",
      "metadata": {
        "colab": {
          "base_uri": "https://localhost:8080/"
        },
        "id": "fXXdQNcUOsv9",
        "outputId": "adf35372-9013-495d-c64a-92df4332d896"
      },
      "source": [
        "# Reading the data in \n",
        "\n",
        "accident_weather = pd.read_csv(path)\n",
        "accident_weather['WEATHER'].value_counts()"
      ],
      "execution_count": 16,
      "outputs": [
        {
          "output_type": "execute_result",
          "data": {
            "text/plain": [
              "1     22904\n",
              "10     5481\n",
              "2      2464\n",
              "5       402\n",
              "4       318\n",
              "99      255\n",
              "3       100\n",
              "98      100\n",
              "8        59\n",
              "12       24\n",
              "11       23\n",
              "6        23\n",
              "7        13\n",
              "Name: WEATHER, dtype: int64"
            ]
          },
          "metadata": {
            "tags": []
          },
          "execution_count": 16
        }
      ]
    },
    {
      "cell_type": "code",
      "metadata": {
        "id": "WGmOc6ePjzVZ"
      },
      "source": [
        "# Dictionary which has coded values \n",
        "\n",
        "weather = {1:'clear',10:'couldy',2:'rain',5:'fog',4:'snow',\n",
        "           99:'unknown',3:'sleet',98:'unreported',8:'other',12:'drizzle',11:'blowingSnow',6:'crosswinds',7:'blowingSand'}"
      ],
      "execution_count": 17,
      "outputs": []
    },
    {
      "cell_type": "code",
      "metadata": {
        "colab": {
          "base_uri": "https://localhost:8080/",
          "height": 501
        },
        "id": "QrWdI2rbkInN",
        "outputId": "963b7970-931a-46b7-e5f5-964577971470"
      },
      "source": [
        "# Plotting the data\n",
        "\n",
        "accident_weather['weather'] = accident_weather['WEATHER'].apply( lambda x:weather[x] )\n",
        "accident_weather['weather'].value_counts().plot.bar(figsize = (14 , 7))"
      ],
      "execution_count": 18,
      "outputs": [
        {
          "output_type": "execute_result",
          "data": {
            "text/plain": [
              "<matplotlib.axes._subplots.AxesSubplot at 0x7fb03f9f0c18>"
            ]
          },
          "metadata": {
            "tags": []
          },
          "execution_count": 18
        },
        {
          "output_type": "display_data",
          "data": {
            "image/png": "[encoded data removed]",
            "text/plain": [
              "<Figure size 1008x504 with 1 Axes>"
            ]
          },
          "metadata": {
            "tags": [],
            "needs_background": "light"
          }
        }
      ]
    },
    {
      "cell_type": "markdown",
      "metadata": {
        "id": "ZZ0DTzvDla1x"
      },
      "source": [
        "## **Manner of collision's lead to fatal accidents**\n",
        "\n",
        "From the given data, here we will find which manner or collision (ex : head to head or etc..) lead to death in the accidents."
      ]
    },
    {
      "cell_type": "code",
      "metadata": {
        "colab": {
          "base_uri": "https://localhost:8080/"
        },
        "id": "9DrggEc2l29W",
        "outputId": "e472faf4-3322-4ced-875f-5dc88dd359d7"
      },
      "source": [
        "accident_weather['MAN_COLL'].value_counts()"
      ],
      "execution_count": 19,
      "outputs": [
        {
          "output_type": "execute_result",
          "data": {
            "text/plain": [
              "0     19881\n",
              "6      5778\n",
              "2      3278\n",
              "1      2203\n",
              "7       501\n",
              "8       324\n",
              "11       79\n",
              "99       62\n",
              "9        38\n",
              "98       21\n",
              "10        1\n",
              "Name: MAN_COLL, dtype: int64"
            ]
          },
          "metadata": {
            "tags": []
          },
          "execution_count": 19
        }
      ]
    },
    {
      "cell_type": "code",
      "metadata": {
        "id": "7j0Sksz4l_uX"
      },
      "source": [
        "# Dictionary which has the right value, replacing it with numbers\n",
        "\n",
        "man_coll = {0:'NoCol',6:'angle',2:'headOn',1:'Rear',7:'sideswipe'}"
      ],
      "execution_count": 20,
      "outputs": []
    },
    {
      "cell_type": "code",
      "metadata": {
        "id": "qQctxzbVl_2S"
      },
      "source": [
        "# Applying the above dictionary converting the values\n",
        "\n",
        "accident_weather['man_coll'] = accident_weather['MAN_COLL'].apply(lambda x:man_coll[x] if (x== 0 or x==6 or x==2 or x==1 or x==7) else 'NoCol')\n"
      ],
      "execution_count": 21,
      "outputs": []
    },
    {
      "cell_type": "code",
      "metadata": {
        "colab": {
          "base_uri": "https://localhost:8080/"
        },
        "id": "f5siA1WvrmwZ",
        "outputId": "d7dee84e-4879-4076-cbd3-c2231655783d"
      },
      "source": [
        "# Checking if there abnormal value exists\n",
        "\n",
        "accident_weather['man_coll'].unique()"
      ],
      "execution_count": 22,
      "outputs": [
        {
          "output_type": "execute_result",
          "data": {
            "text/plain": [
              "array(['NoCol', 'angle', 'headOn', 'sideswipe', 'Rear'], dtype=object)"
            ]
          },
          "metadata": {
            "tags": []
          },
          "execution_count": 22
        }
      ]
    },
    {
      "cell_type": "code",
      "metadata": {
        "colab": {
          "base_uri": "https://localhost:8080/",
          "height": 515
        },
        "id": "dcFieyEHl5YK",
        "outputId": "18e891f1-aa2a-41d8-deaf-b819a49cf414"
      },
      "source": [
        "# Plotting a Pie chart for visualizing \n",
        "\n",
        "fig1, ax1 = plt.subplots(figsize = (15 , 7))\n",
        "labels = accident_weather['man_coll'].unique()\n",
        "ax1.pie(accident_weather['man_coll'].value_counts(),  labels=labels, \n",
        "        startangle=90 )\n",
        "\n",
        "ax1.axis('equal')  \n",
        "plt.tight_layout()\n",
        "plt.show()\n"
      ],
      "execution_count": 23,
      "outputs": [
        {
          "output_type": "display_data",
          "data": {
            "image/png": "[encoded data removed]",
            "text/plain": [
              "<Figure size 1080x504 with 1 Axes>"
            ]
          },
          "metadata": {
            "tags": []
          }
        }
      ]
    },
    {
      "cell_type": "markdown",
      "metadata": {
        "id": "tu34T5hwsH0J"
      },
      "source": [
        "## **How harmful surrounding environment's role had been ?** "
      ]
    },
    {
      "cell_type": "code",
      "metadata": {
        "colab": {
          "base_uri": "https://localhost:8080/"
        },
        "id": "g1pR7kqxtKaH",
        "outputId": "32370944-0601-4d31-9dfb-7a1107ef3c05"
      },
      "source": [
        "accident_weather['HARM_EV'].value_counts().head()"
      ],
      "execution_count": 24,
      "outputs": [
        {
          "output_type": "execute_result",
          "data": {
            "text/plain": [
              "12    12239\n",
              "8      4981\n",
              "1      2823\n",
              "42     2298\n",
              "33     1091\n",
              "Name: HARM_EV, dtype: int64"
            ]
          },
          "metadata": {
            "tags": []
          },
          "execution_count": 24
        }
      ]
    },
    {
      "cell_type": "code",
      "metadata": {
        "id": "VchYRuyStNXs"
      },
      "source": [
        "# Replacing numbers with real values \n",
        "\n",
        "harm_ev= {12: 'SameRoadVehicle', 8: 'Pedestrian', 1: 'OverTurn', 42: 'Trees', \n",
        "          33: 'Curb', 34: 'Ditch', 35: 'Embankment'}"
      ],
      "execution_count": 25,
      "outputs": []
    },
    {
      "cell_type": "code",
      "metadata": {
        "id": "eZQTE2RAtNeV"
      },
      "source": [
        "# Encoding the values \n",
        "accident_weather['harm_env'] = accident_weather['HARM_EV'].apply(lambda x:harm_ev[x] \n",
        "                                                                if(x==12 or x==8 or x==1 or x==42 or x==33 or x==34 or x== 35)  else 'Other' )"
      ],
      "execution_count": 26,
      "outputs": []
    },
    {
      "cell_type": "code",
      "metadata": {
        "colab": {
          "base_uri": "https://localhost:8080/",
          "height": 608
        },
        "id": "nmrkmXAUwxQ7",
        "outputId": "057fe1a7-8554-43c4-871f-b19b72737e97"
      },
      "source": [
        "# Plotting the data in Pie Chart for visualization\n",
        "\n",
        "accident_weather['harm_env'].value_counts().plot(kind='pie',title='How harmful environment played role' , figsize = (18 , 10))"
      ],
      "execution_count": 27,
      "outputs": [
        {
          "output_type": "execute_result",
          "data": {
            "text/plain": [
              "<matplotlib.axes._subplots.AxesSubplot at 0x7fb03f95c0f0>"
            ]
          },
          "metadata": {
            "tags": []
          },
          "execution_count": 27
        },
        {
          "output_type": "display_data",
          "data": {
            "image/png": "[encoded data removed]",
            "text/plain": [
              "<Figure size 1296x720 with 1 Axes>"
            ]
          },
          "metadata": {
            "tags": []
          }
        }
      ]
    },
    {
      "cell_type": "markdown",
      "metadata": {
        "id": "XXIULEE1tNoa"
      },
      "source": [
        "## **Accident's data related to Time, example (Month , Date etc..)**"
      ]
    },
    {
      "cell_type": "markdown",
      "metadata": {
        "id": "riHBqxc62Tbb"
      },
      "source": [
        "### Month-wise data \n",
        "\n",
        "On which month most accidents took place ? "
      ]
    },
    {
      "cell_type": "code",
      "metadata": {
        "colab": {
          "base_uri": "https://localhost:8080/",
          "height": 258
        },
        "id": "E8oZ1eOw2p2b",
        "outputId": "3843caa8-2d84-4d83-b6eb-b3d7bbeb4f1b"
      },
      "source": [
        "# Reading the data\n",
        "\n",
        "accident_data_month = pd.read_csv(path)\n",
        "accident_data_month.head()"
      ],
      "execution_count": 28,
      "outputs": [
        {
          "output_type": "execute_result",
          "data": {
            "text/html": [
              "<div>\n",
              "<style scoped>\n",
              "    .dataframe tbody tr th:only-of-type {\n",
              "        vertical-align: middle;\n",
              "    }\n",
              "\n",
              "    .dataframe tbody tr th {\n",
              "        vertical-align: top;\n",
              "    }\n",
              "\n",
              "    .dataframe thead th {\n",
              "        text-align: right;\n",
              "    }\n",
              "</style>\n",
              "<table border=\"1\" class=\"dataframe\">\n",
              "  <thead>\n",
              "    <tr style=\"text-align: right;\">\n",
              "      <th></th>\n",
              "      <th>STATE</th>\n",
              "      <th>ST_CASE</th>\n",
              "      <th>VE_TOTAL</th>\n",
              "      <th>VE_FORMS</th>\n",
              "      <th>PVH_INVL</th>\n",
              "      <th>PEDS</th>\n",
              "      <th>PERNOTMVIT</th>\n",
              "      <th>PERMVIT</th>\n",
              "      <th>PERSONS</th>\n",
              "      <th>COUNTY</th>\n",
              "      <th>CITY</th>\n",
              "      <th>DAY</th>\n",
              "      <th>MONTH</th>\n",
              "      <th>YEAR</th>\n",
              "      <th>DAY_WEEK</th>\n",
              "      <th>HOUR</th>\n",
              "      <th>MINUTE</th>\n",
              "      <th>NHS</th>\n",
              "      <th>RUR_URB</th>\n",
              "      <th>FUNC_SYS</th>\n",
              "      <th>RD_OWNER</th>\n",
              "      <th>ROUTE</th>\n",
              "      <th>TWAY_ID</th>\n",
              "      <th>TWAY_ID2</th>\n",
              "      <th>MILEPT</th>\n",
              "      <th>LATITUDE</th>\n",
              "      <th>LONGITUD</th>\n",
              "      <th>SP_JUR</th>\n",
              "      <th>HARM_EV</th>\n",
              "      <th>MAN_COLL</th>\n",
              "      <th>RELJCT1</th>\n",
              "      <th>RELJCT2</th>\n",
              "      <th>TYP_INT</th>\n",
              "      <th>WRK_ZONE</th>\n",
              "      <th>REL_ROAD</th>\n",
              "      <th>LGT_COND</th>\n",
              "      <th>WEATHER1</th>\n",
              "      <th>WEATHER2</th>\n",
              "      <th>WEATHER</th>\n",
              "      <th>SCH_BUS</th>\n",
              "      <th>RAIL</th>\n",
              "      <th>NOT_HOUR</th>\n",
              "      <th>NOT_MIN</th>\n",
              "      <th>ARR_HOUR</th>\n",
              "      <th>ARR_MIN</th>\n",
              "      <th>HOSP_HR</th>\n",
              "      <th>HOSP_MN</th>\n",
              "      <th>CF1</th>\n",
              "      <th>CF2</th>\n",
              "      <th>CF3</th>\n",
              "      <th>FATALS</th>\n",
              "      <th>DRUNK_DR</th>\n",
              "    </tr>\n",
              "  </thead>\n",
              "  <tbody>\n",
              "    <tr>\n",
              "      <th>0</th>\n",
              "      <td>1</td>\n",
              "      <td>10001</td>\n",
              "      <td>1</td>\n",
              "      <td>1</td>\n",
              "      <td>0</td>\n",
              "      <td>0</td>\n",
              "      <td>0</td>\n",
              "      <td>1</td>\n",
              "      <td>1</td>\n",
              "      <td>127</td>\n",
              "      <td>0</td>\n",
              "      <td>1</td>\n",
              "      <td>1</td>\n",
              "      <td>2015</td>\n",
              "      <td>5</td>\n",
              "      <td>2</td>\n",
              "      <td>40</td>\n",
              "      <td>0</td>\n",
              "      <td>1</td>\n",
              "      <td>3</td>\n",
              "      <td>1</td>\n",
              "      <td>3</td>\n",
              "      <td>SR-5</td>\n",
              "      <td>NaN</td>\n",
              "      <td>1754</td>\n",
              "      <td>34</td>\n",
              "      <td>-87</td>\n",
              "      <td>0</td>\n",
              "      <td>35</td>\n",
              "      <td>0</td>\n",
              "      <td>0</td>\n",
              "      <td>1</td>\n",
              "      <td>1</td>\n",
              "      <td>0</td>\n",
              "      <td>4</td>\n",
              "      <td>2</td>\n",
              "      <td>1</td>\n",
              "      <td>0</td>\n",
              "      <td>1</td>\n",
              "      <td>0</td>\n",
              "      <td>0000000</td>\n",
              "      <td>99</td>\n",
              "      <td>99</td>\n",
              "      <td>2</td>\n",
              "      <td>58</td>\n",
              "      <td>88</td>\n",
              "      <td>88</td>\n",
              "      <td>0</td>\n",
              "      <td>0</td>\n",
              "      <td>0</td>\n",
              "      <td>1</td>\n",
              "      <td>1</td>\n",
              "    </tr>\n",
              "    <tr>\n",
              "      <th>1</th>\n",
              "      <td>1</td>\n",
              "      <td>10002</td>\n",
              "      <td>1</td>\n",
              "      <td>1</td>\n",
              "      <td>0</td>\n",
              "      <td>0</td>\n",
              "      <td>0</td>\n",
              "      <td>1</td>\n",
              "      <td>1</td>\n",
              "      <td>83</td>\n",
              "      <td>0</td>\n",
              "      <td>1</td>\n",
              "      <td>1</td>\n",
              "      <td>2015</td>\n",
              "      <td>5</td>\n",
              "      <td>22</td>\n",
              "      <td>13</td>\n",
              "      <td>1</td>\n",
              "      <td>1</td>\n",
              "      <td>1</td>\n",
              "      <td>1</td>\n",
              "      <td>1</td>\n",
              "      <td>I-65</td>\n",
              "      <td>NaN</td>\n",
              "      <td>3604</td>\n",
              "      <td>35</td>\n",
              "      <td>-87</td>\n",
              "      <td>0</td>\n",
              "      <td>34</td>\n",
              "      <td>0</td>\n",
              "      <td>0</td>\n",
              "      <td>1</td>\n",
              "      <td>1</td>\n",
              "      <td>0</td>\n",
              "      <td>3</td>\n",
              "      <td>2</td>\n",
              "      <td>10</td>\n",
              "      <td>0</td>\n",
              "      <td>10</td>\n",
              "      <td>0</td>\n",
              "      <td>0000000</td>\n",
              "      <td>99</td>\n",
              "      <td>99</td>\n",
              "      <td>22</td>\n",
              "      <td>20</td>\n",
              "      <td>88</td>\n",
              "      <td>88</td>\n",
              "      <td>0</td>\n",
              "      <td>0</td>\n",
              "      <td>0</td>\n",
              "      <td>1</td>\n",
              "      <td>0</td>\n",
              "    </tr>\n",
              "    <tr>\n",
              "      <th>2</th>\n",
              "      <td>1</td>\n",
              "      <td>10003</td>\n",
              "      <td>1</td>\n",
              "      <td>1</td>\n",
              "      <td>0</td>\n",
              "      <td>0</td>\n",
              "      <td>0</td>\n",
              "      <td>2</td>\n",
              "      <td>2</td>\n",
              "      <td>11</td>\n",
              "      <td>0</td>\n",
              "      <td>1</td>\n",
              "      <td>1</td>\n",
              "      <td>2015</td>\n",
              "      <td>5</td>\n",
              "      <td>1</td>\n",
              "      <td>25</td>\n",
              "      <td>0</td>\n",
              "      <td>1</td>\n",
              "      <td>3</td>\n",
              "      <td>1</td>\n",
              "      <td>2</td>\n",
              "      <td>US-SR 6</td>\n",
              "      <td>NaN</td>\n",
              "      <td>1958</td>\n",
              "      <td>32</td>\n",
              "      <td>-86</td>\n",
              "      <td>0</td>\n",
              "      <td>42</td>\n",
              "      <td>0</td>\n",
              "      <td>0</td>\n",
              "      <td>1</td>\n",
              "      <td>1</td>\n",
              "      <td>0</td>\n",
              "      <td>4</td>\n",
              "      <td>2</td>\n",
              "      <td>1</td>\n",
              "      <td>0</td>\n",
              "      <td>1</td>\n",
              "      <td>0</td>\n",
              "      <td>0000000</td>\n",
              "      <td>99</td>\n",
              "      <td>99</td>\n",
              "      <td>1</td>\n",
              "      <td>45</td>\n",
              "      <td>99</td>\n",
              "      <td>99</td>\n",
              "      <td>0</td>\n",
              "      <td>0</td>\n",
              "      <td>0</td>\n",
              "      <td>1</td>\n",
              "      <td>1</td>\n",
              "    </tr>\n",
              "    <tr>\n",
              "      <th>3</th>\n",
              "      <td>1</td>\n",
              "      <td>10004</td>\n",
              "      <td>1</td>\n",
              "      <td>1</td>\n",
              "      <td>0</td>\n",
              "      <td>0</td>\n",
              "      <td>0</td>\n",
              "      <td>1</td>\n",
              "      <td>1</td>\n",
              "      <td>45</td>\n",
              "      <td>0</td>\n",
              "      <td>4</td>\n",
              "      <td>1</td>\n",
              "      <td>2015</td>\n",
              "      <td>1</td>\n",
              "      <td>0</td>\n",
              "      <td>57</td>\n",
              "      <td>0</td>\n",
              "      <td>1</td>\n",
              "      <td>4</td>\n",
              "      <td>1</td>\n",
              "      <td>3</td>\n",
              "      <td>SR-27</td>\n",
              "      <td>NaN</td>\n",
              "      <td>566</td>\n",
              "      <td>31</td>\n",
              "      <td>-86</td>\n",
              "      <td>0</td>\n",
              "      <td>53</td>\n",
              "      <td>0</td>\n",
              "      <td>0</td>\n",
              "      <td>1</td>\n",
              "      <td>1</td>\n",
              "      <td>0</td>\n",
              "      <td>4</td>\n",
              "      <td>2</td>\n",
              "      <td>10</td>\n",
              "      <td>0</td>\n",
              "      <td>10</td>\n",
              "      <td>0</td>\n",
              "      <td>0000000</td>\n",
              "      <td>99</td>\n",
              "      <td>99</td>\n",
              "      <td>1</td>\n",
              "      <td>15</td>\n",
              "      <td>88</td>\n",
              "      <td>88</td>\n",
              "      <td>0</td>\n",
              "      <td>0</td>\n",
              "      <td>0</td>\n",
              "      <td>1</td>\n",
              "      <td>1</td>\n",
              "    </tr>\n",
              "    <tr>\n",
              "      <th>4</th>\n",
              "      <td>1</td>\n",
              "      <td>10005</td>\n",
              "      <td>2</td>\n",
              "      <td>2</td>\n",
              "      <td>0</td>\n",
              "      <td>0</td>\n",
              "      <td>0</td>\n",
              "      <td>2</td>\n",
              "      <td>2</td>\n",
              "      <td>45</td>\n",
              "      <td>2050</td>\n",
              "      <td>7</td>\n",
              "      <td>1</td>\n",
              "      <td>2015</td>\n",
              "      <td>4</td>\n",
              "      <td>7</td>\n",
              "      <td>9</td>\n",
              "      <td>0</td>\n",
              "      <td>2</td>\n",
              "      <td>3</td>\n",
              "      <td>1</td>\n",
              "      <td>2</td>\n",
              "      <td>US-SR 53</td>\n",
              "      <td>HINTON WATERS AVE</td>\n",
              "      <td>308</td>\n",
              "      <td>31</td>\n",
              "      <td>-86</td>\n",
              "      <td>0</td>\n",
              "      <td>12</td>\n",
              "      <td>6</td>\n",
              "      <td>0</td>\n",
              "      <td>2</td>\n",
              "      <td>3</td>\n",
              "      <td>0</td>\n",
              "      <td>1</td>\n",
              "      <td>1</td>\n",
              "      <td>1</td>\n",
              "      <td>0</td>\n",
              "      <td>1</td>\n",
              "      <td>0</td>\n",
              "      <td>0000000</td>\n",
              "      <td>99</td>\n",
              "      <td>99</td>\n",
              "      <td>7</td>\n",
              "      <td>16</td>\n",
              "      <td>88</td>\n",
              "      <td>88</td>\n",
              "      <td>0</td>\n",
              "      <td>0</td>\n",
              "      <td>0</td>\n",
              "      <td>1</td>\n",
              "      <td>0</td>\n",
              "    </tr>\n",
              "  </tbody>\n",
              "</table>\n",
              "</div>"
            ],
            "text/plain": [
              "   STATE  ST_CASE  VE_TOTAL  VE_FORMS  ...  CF2  CF3  FATALS  DRUNK_DR\n",
              "0      1    10001         1         1  ...    0    0       1         1\n",
              "1      1    10002         1         1  ...    0    0       1         0\n",
              "2      1    10003         1         1  ...    0    0       1         1\n",
              "3      1    10004         1         1  ...    0    0       1         1\n",
              "4      1    10005         2         2  ...    0    0       1         0\n",
              "\n",
              "[5 rows x 52 columns]"
            ]
          },
          "metadata": {
            "tags": []
          },
          "execution_count": 28
        }
      ]
    },
    {
      "cell_type": "code",
      "metadata": {
        "id": "JtlMMVKD2ynE"
      },
      "source": [
        "# Replacing numbers with name of month \n",
        "month = {1: 'Jan', 2: 'Feb', 3: 'March', 4: 'April', \n",
        "          5: 'May', 6: 'June', 7: 'July', 8: 'Aug', \n",
        "          9: 'Sep', 10: 'Oct',11: 'Nov',12: 'Dec'}\n"
      ],
      "execution_count": 29,
      "outputs": []
    },
    {
      "cell_type": "code",
      "metadata": {
        "colab": {
          "base_uri": "https://localhost:8080/",
          "height": 407
        },
        "id": "Ezl36pa83Pu3",
        "outputId": "daa706c5-0c3f-4b2a-a1a9-2024382c8f18"
      },
      "source": [
        "# Plotting a horizantal bar plot for visualizing month wise accident\n",
        "\n",
        "accident_data_month['month']=accident_data_month['MONTH'].apply(lambda x: month[x])\n",
        "accident_data_month['month'].value_counts().sort_index(level='month').plot(kind='barh',title='Month-wise accident' , figsize = (12 , 6))\n"
      ],
      "execution_count": 30,
      "outputs": [
        {
          "output_type": "execute_result",
          "data": {
            "text/plain": [
              "<matplotlib.axes._subplots.AxesSubplot at 0x7fb03cf2e208>"
            ]
          },
          "metadata": {
            "tags": []
          },
          "execution_count": 30
        },
        {
          "output_type": "display_data",
          "data": {
            "image/png": "[encoded data removed]",
            "text/plain": [
              "<Figure size 864x432 with 1 Axes>"
            ]
          },
          "metadata": {
            "tags": [],
            "needs_background": "light"
          }
        }
      ]
    },
    {
      "cell_type": "markdown",
      "metadata": {
        "id": "ecOfKbUq3dr8"
      },
      "source": [
        "### Date-wise breakdown \n",
        "\n",
        "On which spread of date's most number of accidents took place"
      ]
    },
    {
      "cell_type": "code",
      "metadata": {
        "colab": {
          "base_uri": "https://localhost:8080/",
          "height": 407
        },
        "id": "ECbg0Y3d3-aC",
        "outputId": "7f2b7768-575a-4409-bc81-a1961c92f1e4"
      },
      "source": [
        "accident_data_month['DAY'].value_counts().sort_index().plot(title='Day-wise accident' , figsize = (12 , 6))\n"
      ],
      "execution_count": 31,
      "outputs": [
        {
          "output_type": "execute_result",
          "data": {
            "text/plain": [
              "<matplotlib.axes._subplots.AxesSubplot at 0x7fb03cf33358>"
            ]
          },
          "metadata": {
            "tags": []
          },
          "execution_count": 31
        },
        {
          "output_type": "display_data",
          "data": {
            "image/png": "[encoded data removed]",
            "text/plain": [
              "<Figure size 864x432 with 1 Axes>"
            ]
          },
          "metadata": {
            "tags": [],
            "needs_background": "light"
          }
        }
      ]
    },
    {
      "cell_type": "markdown",
      "metadata": {
        "id": "eAttUnFZGbTA"
      },
      "source": [
        "### Weekday break-down\n",
        "\n",
        "On which day most accident's had occured \n"
      ]
    },
    {
      "cell_type": "code",
      "metadata": {
        "colab": {
          "base_uri": "https://localhost:8080/",
          "height": 407
        },
        "id": "ToFaAfJ14FIC",
        "outputId": "0a76af8d-7224-47fd-91ee-b6d2d82c27eb"
      },
      "source": [
        "# Replacing numbers with days \n",
        "day = {1: '1_SAT', 2: '2_SUN', 3: '3_MON', 4: '4_TUE', \n",
        "          5: '5_WED', 6: '6_THU', 7: '7_FRI'}\n",
        "\n",
        "# Encoding \n",
        "accident_data_month['day_week']=accident_data_month['DAY_WEEK'].apply(lambda x: day[x])\n",
        "\n",
        "# Plotting the data\n",
        "accident_data_month['day_week'].value_counts().sort_index().plot(kind='barh',title='Week_Day-wise accident' , figsize = (12 , 6))\n"
      ],
      "execution_count": 32,
      "outputs": [
        {
          "output_type": "execute_result",
          "data": {
            "text/plain": [
              "<matplotlib.axes._subplots.AxesSubplot at 0x7fb03ce1f978>"
            ]
          },
          "metadata": {
            "tags": []
          },
          "execution_count": 32
        },
        {
          "output_type": "display_data",
          "data": {
            "image/png": "[encoded data removed]",
            "text/plain": [
              "<Figure size 864x432 with 1 Axes>"
            ]
          },
          "metadata": {
            "tags": [],
            "needs_background": "light"
          }
        }
      ]
    },
    {
      "cell_type": "markdown",
      "metadata": {
        "id": "JFDM74RqKG7D"
      },
      "source": [
        "### Hourly Breakdown \n",
        "\n",
        "Which hour of the time most number of accidents took place ? \n",
        "\n",
        "`For example , at 2 most accidents took place`"
      ]
    },
    {
      "cell_type": "code",
      "metadata": {
        "colab": {
          "base_uri": "https://localhost:8080/",
          "height": 624
        },
        "id": "iFH23bbKHfax",
        "outputId": "78a57adc-aad7-444a-d551-c3fdb7010f9a"
      },
      "source": [
        "accident_data_month=accident_data_month[accident_data_month.HOUR != 99]\n",
        "\n",
        "accident_data_month['HOUR'].value_counts().sort_index().plot(kind='barh',title='Hour-wise accident' , figsize = (18 , 10))"
      ],
      "execution_count": 33,
      "outputs": [
        {
          "output_type": "execute_result",
          "data": {
            "text/plain": [
              "<matplotlib.axes._subplots.AxesSubplot at 0x7fb03fe49a58>"
            ]
          },
          "metadata": {
            "tags": []
          },
          "execution_count": 33
        },
        {
          "output_type": "display_data",
          "data": {
            "image/png": "[encoded data removed]",
            "text/plain": [
              "<Figure size 1296x720 with 1 Axes>"
            ]
          },
          "metadata": {
            "tags": [],
            "needs_background": "light"
          }
        }
      ]
    },
    {
      "cell_type": "markdown",
      "metadata": {
        "id": "vlpBkfjSKYkG"
      },
      "source": [
        "## **Feature Engineering** \n",
        "\n",
        "\n",
        "Here we will create new columns and play with data, which will be used in modelling and for analysis purpose. \n",
        "\n",
        "Create new columns by combining already existing columns."
      ]
    },
    {
      "cell_type": "code",
      "metadata": {
        "colab": {
          "base_uri": "https://localhost:8080/"
        },
        "id": "pbnwOeAJZeMd",
        "outputId": "1dbfab02-e228-4c6b-a1c2-aabfdf718064"
      },
      "source": [
        "# Creating another column where the mapping for the state has done \n",
        "accident_weather['state']=accident_weather['STATE'].apply(lambda x:states[x])\n",
        "accident_weather['state']"
      ],
      "execution_count": 34,
      "outputs": [
        {
          "output_type": "execute_result",
          "data": {
            "text/plain": [
              "0        Alabama\n",
              "1        Alabama\n",
              "2        Alabama\n",
              "3        Alabama\n",
              "4        Alabama\n",
              "          ...   \n",
              "32161    Wyoming\n",
              "32162    Wyoming\n",
              "32163    Wyoming\n",
              "32164    Wyoming\n",
              "32165    Wyoming\n",
              "Name: state, Length: 32166, dtype: object"
            ]
          },
          "metadata": {
            "tags": []
          },
          "execution_count": 34
        }
      ]
    },
    {
      "cell_type": "code",
      "metadata": {
        "id": "kg_EXc0WW2e-"
      },
      "source": [
        "# Choosing the data to be modeled\n",
        "\n",
        "model_data = accident_weather[['state' , 'MONTH' , 'DAY_WEEK' , 'DAY' , 'HOUR' , \n",
        "                      'harm_env', 'DRUNK_DR' , 'weather' , 'man_coll']]\n",
        "\n"
      ],
      "execution_count": 35,
      "outputs": []
    },
    {
      "cell_type": "code",
      "metadata": {
        "colab": {
          "base_uri": "https://localhost:8080/",
          "height": 204
        },
        "id": "7kgmNODMXr6F",
        "outputId": "f7e0784d-dc0f-4e43-d148-7d7b77f6a415"
      },
      "source": [
        "# Looking into the new model data \n",
        "\n",
        "model_data.head()\n"
      ],
      "execution_count": 36,
      "outputs": [
        {
          "output_type": "execute_result",
          "data": {
            "text/html": [
              "<div>\n",
              "<style scoped>\n",
              "    .dataframe tbody tr th:only-of-type {\n",
              "        vertical-align: middle;\n",
              "    }\n",
              "\n",
              "    .dataframe tbody tr th {\n",
              "        vertical-align: top;\n",
              "    }\n",
              "\n",
              "    .dataframe thead th {\n",
              "        text-align: right;\n",
              "    }\n",
              "</style>\n",
              "<table border=\"1\" class=\"dataframe\">\n",
              "  <thead>\n",
              "    <tr style=\"text-align: right;\">\n",
              "      <th></th>\n",
              "      <th>state</th>\n",
              "      <th>MONTH</th>\n",
              "      <th>DAY_WEEK</th>\n",
              "      <th>DAY</th>\n",
              "      <th>HOUR</th>\n",
              "      <th>harm_env</th>\n",
              "      <th>DRUNK_DR</th>\n",
              "      <th>weather</th>\n",
              "      <th>man_coll</th>\n",
              "    </tr>\n",
              "  </thead>\n",
              "  <tbody>\n",
              "    <tr>\n",
              "      <th>0</th>\n",
              "      <td>Alabama</td>\n",
              "      <td>1</td>\n",
              "      <td>5</td>\n",
              "      <td>1</td>\n",
              "      <td>2</td>\n",
              "      <td>Embankment</td>\n",
              "      <td>1</td>\n",
              "      <td>clear</td>\n",
              "      <td>NoCol</td>\n",
              "    </tr>\n",
              "    <tr>\n",
              "      <th>1</th>\n",
              "      <td>Alabama</td>\n",
              "      <td>1</td>\n",
              "      <td>5</td>\n",
              "      <td>1</td>\n",
              "      <td>22</td>\n",
              "      <td>Ditch</td>\n",
              "      <td>0</td>\n",
              "      <td>couldy</td>\n",
              "      <td>NoCol</td>\n",
              "    </tr>\n",
              "    <tr>\n",
              "      <th>2</th>\n",
              "      <td>Alabama</td>\n",
              "      <td>1</td>\n",
              "      <td>5</td>\n",
              "      <td>1</td>\n",
              "      <td>1</td>\n",
              "      <td>Trees</td>\n",
              "      <td>1</td>\n",
              "      <td>clear</td>\n",
              "      <td>NoCol</td>\n",
              "    </tr>\n",
              "    <tr>\n",
              "      <th>3</th>\n",
              "      <td>Alabama</td>\n",
              "      <td>1</td>\n",
              "      <td>1</td>\n",
              "      <td>4</td>\n",
              "      <td>0</td>\n",
              "      <td>Other</td>\n",
              "      <td>1</td>\n",
              "      <td>couldy</td>\n",
              "      <td>NoCol</td>\n",
              "    </tr>\n",
              "    <tr>\n",
              "      <th>4</th>\n",
              "      <td>Alabama</td>\n",
              "      <td>1</td>\n",
              "      <td>4</td>\n",
              "      <td>7</td>\n",
              "      <td>7</td>\n",
              "      <td>SameRoadVehicle</td>\n",
              "      <td>0</td>\n",
              "      <td>clear</td>\n",
              "      <td>angle</td>\n",
              "    </tr>\n",
              "  </tbody>\n",
              "</table>\n",
              "</div>"
            ],
            "text/plain": [
              "     state  MONTH  DAY_WEEK  DAY  ...         harm_env DRUNK_DR  weather man_coll\n",
              "0  Alabama      1         5    1  ...       Embankment        1    clear    NoCol\n",
              "1  Alabama      1         5    1  ...            Ditch        0   couldy    NoCol\n",
              "2  Alabama      1         5    1  ...            Trees        1    clear    NoCol\n",
              "3  Alabama      1         1    4  ...            Other        1   couldy    NoCol\n",
              "4  Alabama      1         4    7  ...  SameRoadVehicle        0    clear    angle\n",
              "\n",
              "[5 rows x 9 columns]"
            ]
          },
          "metadata": {
            "tags": []
          },
          "execution_count": 36
        }
      ]
    },
    {
      "cell_type": "code",
      "metadata": {
        "colab": {
          "base_uri": "https://localhost:8080/"
        },
        "id": "bomyzPpJZvEv",
        "outputId": "62c4fb4d-87b4-4a8c-e151-1419e7434bc6"
      },
      "source": [
        "# Checking if there is any missing values\n",
        "\n",
        "model_data.isna().sum()"
      ],
      "execution_count": 37,
      "outputs": [
        {
          "output_type": "execute_result",
          "data": {
            "text/plain": [
              "state       0\n",
              "MONTH       0\n",
              "DAY_WEEK    0\n",
              "DAY         0\n",
              "HOUR        0\n",
              "harm_env    0\n",
              "DRUNK_DR    0\n",
              "weather     0\n",
              "man_coll    0\n",
              "dtype: int64"
            ]
          },
          "metadata": {
            "tags": []
          },
          "execution_count": 37
        }
      ]
    },
    {
      "cell_type": "markdown",
      "metadata": {
        "id": "7HSa9pK9Z8IW"
      },
      "source": [
        "Certain **odd values** should be replaced with normal values to prevent outliers in the data. By doing this our data will be somewhat good for modelling. "
      ]
    },
    {
      "cell_type": "markdown",
      "metadata": {
        "id": "NNByde7LayE7"
      },
      "source": [
        "### Below, we are filling some value to remove the oddness in the data\n",
        "\n",
        "As per the instruction given by the research paper, we have to get rid of these value and replace with value's they had mentioned in the rule book of this dataset."
      ]
    },
    {
      "cell_type": "code",
      "metadata": {
        "colab": {
          "base_uri": "https://localhost:8080/"
        },
        "id": "-Slk38UDaVtZ",
        "outputId": "f7943a57-c545-4332-e4ad-9ff65eda24b7"
      },
      "source": [
        "# Filling is been done here! \n",
        "\n",
        "model_data['state']=model_data['state'].fillna('TX')\n",
        "model_data['MONTH']=model_data['MONTH'].fillna(0)\n",
        "model_data['DAY_WEEK']=model_data['DAY_WEEK'].fillna(6)\n",
        "model_data['DAY']=model_data['DAY'].fillna(3)\n",
        "model_data['HOUR']=model_data['HOUR'].fillna(18)\n",
        "model_data['harm_env']=model_data['harm_env'].fillna('Embankment')\n",
        "model_data['DRUNK_DR']=model_data['DRUNK_DR'].fillna(0)\n",
        "model_data['harm_env'].unique()"
      ],
      "execution_count": 38,
      "outputs": [
        {
          "output_type": "stream",
          "text": [
            "/usr/local/lib/python3.6/dist-packages/ipykernel_launcher.py:3: SettingWithCopyWarning: \n",
            "A value is trying to be set on a copy of a slice from a DataFrame.\n",
            "Try using .loc[row_indexer,col_indexer] = value instead\n",
            "\n",
            "See the caveats in the documentation: https://pandas.pydata.org/pandas-docs/stable/user_guide/indexing.html#returning-a-view-versus-a-copy\n",
            "  This is separate from the ipykernel package so we can avoid doing imports until\n",
            "/usr/local/lib/python3.6/dist-packages/ipykernel_launcher.py:4: SettingWithCopyWarning: \n",
            "A value is trying to be set on a copy of a slice from a DataFrame.\n",
            "Try using .loc[row_indexer,col_indexer] = value instead\n",
            "\n",
            "See the caveats in the documentation: https://pandas.pydata.org/pandas-docs/stable/user_guide/indexing.html#returning-a-view-versus-a-copy\n",
            "  after removing the cwd from sys.path.\n",
            "/usr/local/lib/python3.6/dist-packages/ipykernel_launcher.py:5: SettingWithCopyWarning: \n",
            "A value is trying to be set on a copy of a slice from a DataFrame.\n",
            "Try using .loc[row_indexer,col_indexer] = value instead\n",
            "\n",
            "See the caveats in the documentation: https://pandas.pydata.org/pandas-docs/stable/user_guide/indexing.html#returning-a-view-versus-a-copy\n",
            "  \"\"\"\n",
            "/usr/local/lib/python3.6/dist-packages/ipykernel_launcher.py:6: SettingWithCopyWarning: \n",
            "A value is trying to be set on a copy of a slice from a DataFrame.\n",
            "Try using .loc[row_indexer,col_indexer] = value instead\n",
            "\n",
            "See the caveats in the documentation: https://pandas.pydata.org/pandas-docs/stable/user_guide/indexing.html#returning-a-view-versus-a-copy\n",
            "  \n",
            "/usr/local/lib/python3.6/dist-packages/ipykernel_launcher.py:7: SettingWithCopyWarning: \n",
            "A value is trying to be set on a copy of a slice from a DataFrame.\n",
            "Try using .loc[row_indexer,col_indexer] = value instead\n",
            "\n",
            "See the caveats in the documentation: https://pandas.pydata.org/pandas-docs/stable/user_guide/indexing.html#returning-a-view-versus-a-copy\n",
            "  import sys\n",
            "/usr/local/lib/python3.6/dist-packages/ipykernel_launcher.py:8: SettingWithCopyWarning: \n",
            "A value is trying to be set on a copy of a slice from a DataFrame.\n",
            "Try using .loc[row_indexer,col_indexer] = value instead\n",
            "\n",
            "See the caveats in the documentation: https://pandas.pydata.org/pandas-docs/stable/user_guide/indexing.html#returning-a-view-versus-a-copy\n",
            "  \n",
            "/usr/local/lib/python3.6/dist-packages/ipykernel_launcher.py:9: SettingWithCopyWarning: \n",
            "A value is trying to be set on a copy of a slice from a DataFrame.\n",
            "Try using .loc[row_indexer,col_indexer] = value instead\n",
            "\n",
            "See the caveats in the documentation: https://pandas.pydata.org/pandas-docs/stable/user_guide/indexing.html#returning-a-view-versus-a-copy\n",
            "  if __name__ == '__main__':\n"
          ],
          "name": "stderr"
        },
        {
          "output_type": "execute_result",
          "data": {
            "text/plain": [
              "array(['Embankment', 'Ditch', 'Trees', 'Other', 'SameRoadVehicle',\n",
              "       'OverTurn', 'Pedestrian', 'Curb'], dtype=object)"
            ]
          },
          "metadata": {
            "tags": []
          },
          "execution_count": 38
        }
      ]
    },
    {
      "cell_type": "code",
      "metadata": {
        "colab": {
          "base_uri": "https://localhost:8080/",
          "height": 204
        },
        "id": "sWxHsy0ybHBe",
        "outputId": "05443490-8df8-4c21-af49-3ba892eef89a"
      },
      "source": [
        "model_data.head()"
      ],
      "execution_count": 39,
      "outputs": [
        {
          "output_type": "execute_result",
          "data": {
            "text/html": [
              "<div>\n",
              "<style scoped>\n",
              "    .dataframe tbody tr th:only-of-type {\n",
              "        vertical-align: middle;\n",
              "    }\n",
              "\n",
              "    .dataframe tbody tr th {\n",
              "        vertical-align: top;\n",
              "    }\n",
              "\n",
              "    .dataframe thead th {\n",
              "        text-align: right;\n",
              "    }\n",
              "</style>\n",
              "<table border=\"1\" class=\"dataframe\">\n",
              "  <thead>\n",
              "    <tr style=\"text-align: right;\">\n",
              "      <th></th>\n",
              "      <th>state</th>\n",
              "      <th>MONTH</th>\n",
              "      <th>DAY_WEEK</th>\n",
              "      <th>DAY</th>\n",
              "      <th>HOUR</th>\n",
              "      <th>harm_env</th>\n",
              "      <th>DRUNK_DR</th>\n",
              "      <th>weather</th>\n",
              "      <th>man_coll</th>\n",
              "    </tr>\n",
              "  </thead>\n",
              "  <tbody>\n",
              "    <tr>\n",
              "      <th>0</th>\n",
              "      <td>Alabama</td>\n",
              "      <td>1</td>\n",
              "      <td>5</td>\n",
              "      <td>1</td>\n",
              "      <td>2</td>\n",
              "      <td>Embankment</td>\n",
              "      <td>1</td>\n",
              "      <td>clear</td>\n",
              "      <td>NoCol</td>\n",
              "    </tr>\n",
              "    <tr>\n",
              "      <th>1</th>\n",
              "      <td>Alabama</td>\n",
              "      <td>1</td>\n",
              "      <td>5</td>\n",
              "      <td>1</td>\n",
              "      <td>22</td>\n",
              "      <td>Ditch</td>\n",
              "      <td>0</td>\n",
              "      <td>couldy</td>\n",
              "      <td>NoCol</td>\n",
              "    </tr>\n",
              "    <tr>\n",
              "      <th>2</th>\n",
              "      <td>Alabama</td>\n",
              "      <td>1</td>\n",
              "      <td>5</td>\n",
              "      <td>1</td>\n",
              "      <td>1</td>\n",
              "      <td>Trees</td>\n",
              "      <td>1</td>\n",
              "      <td>clear</td>\n",
              "      <td>NoCol</td>\n",
              "    </tr>\n",
              "    <tr>\n",
              "      <th>3</th>\n",
              "      <td>Alabama</td>\n",
              "      <td>1</td>\n",
              "      <td>1</td>\n",
              "      <td>4</td>\n",
              "      <td>0</td>\n",
              "      <td>Other</td>\n",
              "      <td>1</td>\n",
              "      <td>couldy</td>\n",
              "      <td>NoCol</td>\n",
              "    </tr>\n",
              "    <tr>\n",
              "      <th>4</th>\n",
              "      <td>Alabama</td>\n",
              "      <td>1</td>\n",
              "      <td>4</td>\n",
              "      <td>7</td>\n",
              "      <td>7</td>\n",
              "      <td>SameRoadVehicle</td>\n",
              "      <td>0</td>\n",
              "      <td>clear</td>\n",
              "      <td>angle</td>\n",
              "    </tr>\n",
              "  </tbody>\n",
              "</table>\n",
              "</div>"
            ],
            "text/plain": [
              "     state  MONTH  DAY_WEEK  DAY  ...         harm_env DRUNK_DR  weather man_coll\n",
              "0  Alabama      1         5    1  ...       Embankment        1    clear    NoCol\n",
              "1  Alabama      1         5    1  ...            Ditch        0   couldy    NoCol\n",
              "2  Alabama      1         5    1  ...            Trees        1    clear    NoCol\n",
              "3  Alabama      1         1    4  ...            Other        1   couldy    NoCol\n",
              "4  Alabama      1         4    7  ...  SameRoadVehicle        0    clear    angle\n",
              "\n",
              "[5 rows x 9 columns]"
            ]
          },
          "metadata": {
            "tags": []
          },
          "execution_count": 39
        }
      ]
    },
    {
      "cell_type": "code",
      "metadata": {
        "colab": {
          "base_uri": "https://localhost:8080/"
        },
        "id": "JR9xoB35bTfx",
        "outputId": "a8a3ff63-c0bd-42eb-d708-93181b4a827b"
      },
      "source": [
        "# Replace Embankment', 'SameRoadVehicle' with EM and SRV respectively\n",
        "\n",
        "model_data['harm_env'] = model_data['harm_env'].replace(['Embankment', 'SameRoadVehicle'], ['EM', 'SRV'])"
      ],
      "execution_count": 40,
      "outputs": [
        {
          "output_type": "stream",
          "text": [
            "/usr/local/lib/python3.6/dist-packages/ipykernel_launcher.py:3: SettingWithCopyWarning: \n",
            "A value is trying to be set on a copy of a slice from a DataFrame.\n",
            "Try using .loc[row_indexer,col_indexer] = value instead\n",
            "\n",
            "See the caveats in the documentation: https://pandas.pydata.org/pandas-docs/stable/user_guide/indexing.html#returning-a-view-versus-a-copy\n",
            "  This is separate from the ipykernel package so we can avoid doing imports until\n"
          ],
          "name": "stderr"
        }
      ]
    },
    {
      "cell_type": "code",
      "metadata": {
        "colab": {
          "base_uri": "https://localhost:8080/",
          "height": 270
        },
        "id": "l_bRghvwbjvW",
        "outputId": "ef039007-82cf-4dcb-fd45-558c22ca5941"
      },
      "source": [
        "# Converting categorical into numerical variables for all string columns\n",
        "\n",
        "# For harmful environment column\n",
        "x=pd.get_dummies(model_data['harm_env'], prefix = 'harm_env')\n",
        "\n",
        "# For state column\n",
        "x = pd.concat([x, pd.get_dummies(model_data['state'], prefix ='state')], axis=1)\n",
        "\n",
        "# For Month column\n",
        "x = pd.concat([x, pd.get_dummies(model_data['MONTH'], prefix ='MONTH')], axis=1)\n",
        "\n",
        "# For Day Week column\n",
        "x = pd.concat([x, pd.get_dummies(model_data['DAY_WEEK'], prefix ='Dw')], axis=1)\n",
        "\n",
        "# For Day column\n",
        "x = pd.concat([x, pd.get_dummies(model_data['DAY'], prefix ='DAY')], axis=1)\n",
        "\n",
        "# For Hour Column\n",
        "x = pd.concat([x, pd.get_dummies(model_data['HOUR'], prefix ='HOUR')], axis=1)\n",
        "\n",
        "# For Collision column \n",
        "x = pd.concat([x, pd.get_dummies(model_data['man_coll'], prefix ='man_coll')], axis=1)\n",
        "\n",
        "# For weather column\n",
        "x = pd.concat([x, pd.get_dummies(model_data['weather'], prefix ='weather')], axis=1)\n",
        "\n",
        "\n",
        "\n",
        "# Checking after all sorts of transformation\n",
        "x.head()\n"
      ],
      "execution_count": 41,
      "outputs": [
        {
          "output_type": "execute_result",
          "data": {
            "text/html": [
              "<div>\n",
              "<style scoped>\n",
              "    .dataframe tbody tr th:only-of-type {\n",
              "        vertical-align: middle;\n",
              "    }\n",
              "\n",
              "    .dataframe tbody tr th {\n",
              "        vertical-align: top;\n",
              "    }\n",
              "\n",
              "    .dataframe thead th {\n",
              "        text-align: right;\n",
              "    }\n",
              "</style>\n",
              "<table border=\"1\" class=\"dataframe\">\n",
              "  <thead>\n",
              "    <tr style=\"text-align: right;\">\n",
              "      <th></th>\n",
              "      <th>harm_env_Curb</th>\n",
              "      <th>harm_env_Ditch</th>\n",
              "      <th>harm_env_EM</th>\n",
              "      <th>harm_env_Other</th>\n",
              "      <th>harm_env_OverTurn</th>\n",
              "      <th>harm_env_Pedestrian</th>\n",
              "      <th>harm_env_SRV</th>\n",
              "      <th>harm_env_Trees</th>\n",
              "      <th>state_Alabama</th>\n",
              "      <th>state_Alaska</th>\n",
              "      <th>state_Arizona</th>\n",
              "      <th>state_Arkansas</th>\n",
              "      <th>state_California</th>\n",
              "      <th>state_Colorado</th>\n",
              "      <th>state_Connecticut</th>\n",
              "      <th>state_Delaware</th>\n",
              "      <th>state_District of Columbia</th>\n",
              "      <th>state_Florida</th>\n",
              "      <th>state_Georgia</th>\n",
              "      <th>state_Hawaii</th>\n",
              "      <th>state_Idaho</th>\n",
              "      <th>state_Illinois</th>\n",
              "      <th>state_Indiana</th>\n",
              "      <th>state_Iowa</th>\n",
              "      <th>state_Kansas</th>\n",
              "      <th>state_Kentucky</th>\n",
              "      <th>state_Louisiana</th>\n",
              "      <th>state_Maine</th>\n",
              "      <th>state_Maryland</th>\n",
              "      <th>state_Massachusetts</th>\n",
              "      <th>state_Michigan</th>\n",
              "      <th>state_Minnesota</th>\n",
              "      <th>state_Mississippi</th>\n",
              "      <th>state_Missouri</th>\n",
              "      <th>state_Montana</th>\n",
              "      <th>state_Nebraska</th>\n",
              "      <th>state_Nevada</th>\n",
              "      <th>state_New Hampshire</th>\n",
              "      <th>state_New Jersey</th>\n",
              "      <th>state_New Mexico</th>\n",
              "      <th>...</th>\n",
              "      <th>HOUR_3</th>\n",
              "      <th>HOUR_4</th>\n",
              "      <th>HOUR_5</th>\n",
              "      <th>HOUR_6</th>\n",
              "      <th>HOUR_7</th>\n",
              "      <th>HOUR_8</th>\n",
              "      <th>HOUR_9</th>\n",
              "      <th>HOUR_10</th>\n",
              "      <th>HOUR_11</th>\n",
              "      <th>HOUR_12</th>\n",
              "      <th>HOUR_13</th>\n",
              "      <th>HOUR_14</th>\n",
              "      <th>HOUR_15</th>\n",
              "      <th>HOUR_16</th>\n",
              "      <th>HOUR_17</th>\n",
              "      <th>HOUR_18</th>\n",
              "      <th>HOUR_19</th>\n",
              "      <th>HOUR_20</th>\n",
              "      <th>HOUR_21</th>\n",
              "      <th>HOUR_22</th>\n",
              "      <th>HOUR_23</th>\n",
              "      <th>HOUR_99</th>\n",
              "      <th>man_coll_NoCol</th>\n",
              "      <th>man_coll_Rear</th>\n",
              "      <th>man_coll_angle</th>\n",
              "      <th>man_coll_headOn</th>\n",
              "      <th>man_coll_sideswipe</th>\n",
              "      <th>weather_blowingSand</th>\n",
              "      <th>weather_blowingSnow</th>\n",
              "      <th>weather_clear</th>\n",
              "      <th>weather_couldy</th>\n",
              "      <th>weather_crosswinds</th>\n",
              "      <th>weather_drizzle</th>\n",
              "      <th>weather_fog</th>\n",
              "      <th>weather_other</th>\n",
              "      <th>weather_rain</th>\n",
              "      <th>weather_sleet</th>\n",
              "      <th>weather_snow</th>\n",
              "      <th>weather_unknown</th>\n",
              "      <th>weather_unreported</th>\n",
              "    </tr>\n",
              "  </thead>\n",
              "  <tbody>\n",
              "    <tr>\n",
              "      <th>0</th>\n",
              "      <td>0</td>\n",
              "      <td>0</td>\n",
              "      <td>1</td>\n",
              "      <td>0</td>\n",
              "      <td>0</td>\n",
              "      <td>0</td>\n",
              "      <td>0</td>\n",
              "      <td>0</td>\n",
              "      <td>1</td>\n",
              "      <td>0</td>\n",
              "      <td>0</td>\n",
              "      <td>0</td>\n",
              "      <td>0</td>\n",
              "      <td>0</td>\n",
              "      <td>0</td>\n",
              "      <td>0</td>\n",
              "      <td>0</td>\n",
              "      <td>0</td>\n",
              "      <td>0</td>\n",
              "      <td>0</td>\n",
              "      <td>0</td>\n",
              "      <td>0</td>\n",
              "      <td>0</td>\n",
              "      <td>0</td>\n",
              "      <td>0</td>\n",
              "      <td>0</td>\n",
              "      <td>0</td>\n",
              "      <td>0</td>\n",
              "      <td>0</td>\n",
              "      <td>0</td>\n",
              "      <td>0</td>\n",
              "      <td>0</td>\n",
              "      <td>0</td>\n",
              "      <td>0</td>\n",
              "      <td>0</td>\n",
              "      <td>0</td>\n",
              "      <td>0</td>\n",
              "      <td>0</td>\n",
              "      <td>0</td>\n",
              "      <td>0</td>\n",
              "      <td>...</td>\n",
              "      <td>0</td>\n",
              "      <td>0</td>\n",
              "      <td>0</td>\n",
              "      <td>0</td>\n",
              "      <td>0</td>\n",
              "      <td>0</td>\n",
              "      <td>0</td>\n",
              "      <td>0</td>\n",
              "      <td>0</td>\n",
              "      <td>0</td>\n",
              "      <td>0</td>\n",
              "      <td>0</td>\n",
              "      <td>0</td>\n",
              "      <td>0</td>\n",
              "      <td>0</td>\n",
              "      <td>0</td>\n",
              "      <td>0</td>\n",
              "      <td>0</td>\n",
              "      <td>0</td>\n",
              "      <td>0</td>\n",
              "      <td>0</td>\n",
              "      <td>0</td>\n",
              "      <td>1</td>\n",
              "      <td>0</td>\n",
              "      <td>0</td>\n",
              "      <td>0</td>\n",
              "      <td>0</td>\n",
              "      <td>0</td>\n",
              "      <td>0</td>\n",
              "      <td>1</td>\n",
              "      <td>0</td>\n",
              "      <td>0</td>\n",
              "      <td>0</td>\n",
              "      <td>0</td>\n",
              "      <td>0</td>\n",
              "      <td>0</td>\n",
              "      <td>0</td>\n",
              "      <td>0</td>\n",
              "      <td>0</td>\n",
              "      <td>0</td>\n",
              "    </tr>\n",
              "    <tr>\n",
              "      <th>1</th>\n",
              "      <td>0</td>\n",
              "      <td>1</td>\n",
              "      <td>0</td>\n",
              "      <td>0</td>\n",
              "      <td>0</td>\n",
              "      <td>0</td>\n",
              "      <td>0</td>\n",
              "      <td>0</td>\n",
              "      <td>1</td>\n",
              "      <td>0</td>\n",
              "      <td>0</td>\n",
              "      <td>0</td>\n",
              "      <td>0</td>\n",
              "      <td>0</td>\n",
              "      <td>0</td>\n",
              "      <td>0</td>\n",
              "      <td>0</td>\n",
              "      <td>0</td>\n",
              "      <td>0</td>\n",
              "      <td>0</td>\n",
              "      <td>0</td>\n",
              "      <td>0</td>\n",
              "      <td>0</td>\n",
              "      <td>0</td>\n",
              "      <td>0</td>\n",
              "      <td>0</td>\n",
              "      <td>0</td>\n",
              "      <td>0</td>\n",
              "      <td>0</td>\n",
              "      <td>0</td>\n",
              "      <td>0</td>\n",
              "      <td>0</td>\n",
              "      <td>0</td>\n",
              "      <td>0</td>\n",
              "      <td>0</td>\n",
              "      <td>0</td>\n",
              "      <td>0</td>\n",
              "      <td>0</td>\n",
              "      <td>0</td>\n",
              "      <td>0</td>\n",
              "      <td>...</td>\n",
              "      <td>0</td>\n",
              "      <td>0</td>\n",
              "      <td>0</td>\n",
              "      <td>0</td>\n",
              "      <td>0</td>\n",
              "      <td>0</td>\n",
              "      <td>0</td>\n",
              "      <td>0</td>\n",
              "      <td>0</td>\n",
              "      <td>0</td>\n",
              "      <td>0</td>\n",
              "      <td>0</td>\n",
              "      <td>0</td>\n",
              "      <td>0</td>\n",
              "      <td>0</td>\n",
              "      <td>0</td>\n",
              "      <td>0</td>\n",
              "      <td>0</td>\n",
              "      <td>0</td>\n",
              "      <td>1</td>\n",
              "      <td>0</td>\n",
              "      <td>0</td>\n",
              "      <td>1</td>\n",
              "      <td>0</td>\n",
              "      <td>0</td>\n",
              "      <td>0</td>\n",
              "      <td>0</td>\n",
              "      <td>0</td>\n",
              "      <td>0</td>\n",
              "      <td>0</td>\n",
              "      <td>1</td>\n",
              "      <td>0</td>\n",
              "      <td>0</td>\n",
              "      <td>0</td>\n",
              "      <td>0</td>\n",
              "      <td>0</td>\n",
              "      <td>0</td>\n",
              "      <td>0</td>\n",
              "      <td>0</td>\n",
              "      <td>0</td>\n",
              "    </tr>\n",
              "    <tr>\n",
              "      <th>2</th>\n",
              "      <td>0</td>\n",
              "      <td>0</td>\n",
              "      <td>0</td>\n",
              "      <td>0</td>\n",
              "      <td>0</td>\n",
              "      <td>0</td>\n",
              "      <td>0</td>\n",
              "      <td>1</td>\n",
              "      <td>1</td>\n",
              "      <td>0</td>\n",
              "      <td>0</td>\n",
              "      <td>0</td>\n",
              "      <td>0</td>\n",
              "      <td>0</td>\n",
              "      <td>0</td>\n",
              "      <td>0</td>\n",
              "      <td>0</td>\n",
              "      <td>0</td>\n",
              "      <td>0</td>\n",
              "      <td>0</td>\n",
              "      <td>0</td>\n",
              "      <td>0</td>\n",
              "      <td>0</td>\n",
              "      <td>0</td>\n",
              "      <td>0</td>\n",
              "      <td>0</td>\n",
              "      <td>0</td>\n",
              "      <td>0</td>\n",
              "      <td>0</td>\n",
              "      <td>0</td>\n",
              "      <td>0</td>\n",
              "      <td>0</td>\n",
              "      <td>0</td>\n",
              "      <td>0</td>\n",
              "      <td>0</td>\n",
              "      <td>0</td>\n",
              "      <td>0</td>\n",
              "      <td>0</td>\n",
              "      <td>0</td>\n",
              "      <td>0</td>\n",
              "      <td>...</td>\n",
              "      <td>0</td>\n",
              "      <td>0</td>\n",
              "      <td>0</td>\n",
              "      <td>0</td>\n",
              "      <td>0</td>\n",
              "      <td>0</td>\n",
              "      <td>0</td>\n",
              "      <td>0</td>\n",
              "      <td>0</td>\n",
              "      <td>0</td>\n",
              "      <td>0</td>\n",
              "      <td>0</td>\n",
              "      <td>0</td>\n",
              "      <td>0</td>\n",
              "      <td>0</td>\n",
              "      <td>0</td>\n",
              "      <td>0</td>\n",
              "      <td>0</td>\n",
              "      <td>0</td>\n",
              "      <td>0</td>\n",
              "      <td>0</td>\n",
              "      <td>0</td>\n",
              "      <td>1</td>\n",
              "      <td>0</td>\n",
              "      <td>0</td>\n",
              "      <td>0</td>\n",
              "      <td>0</td>\n",
              "      <td>0</td>\n",
              "      <td>0</td>\n",
              "      <td>1</td>\n",
              "      <td>0</td>\n",
              "      <td>0</td>\n",
              "      <td>0</td>\n",
              "      <td>0</td>\n",
              "      <td>0</td>\n",
              "      <td>0</td>\n",
              "      <td>0</td>\n",
              "      <td>0</td>\n",
              "      <td>0</td>\n",
              "      <td>0</td>\n",
              "    </tr>\n",
              "    <tr>\n",
              "      <th>3</th>\n",
              "      <td>0</td>\n",
              "      <td>0</td>\n",
              "      <td>0</td>\n",
              "      <td>1</td>\n",
              "      <td>0</td>\n",
              "      <td>0</td>\n",
              "      <td>0</td>\n",
              "      <td>0</td>\n",
              "      <td>1</td>\n",
              "      <td>0</td>\n",
              "      <td>0</td>\n",
              "      <td>0</td>\n",
              "      <td>0</td>\n",
              "      <td>0</td>\n",
              "      <td>0</td>\n",
              "      <td>0</td>\n",
              "      <td>0</td>\n",
              "      <td>0</td>\n",
              "      <td>0</td>\n",
              "      <td>0</td>\n",
              "      <td>0</td>\n",
              "      <td>0</td>\n",
              "      <td>0</td>\n",
              "      <td>0</td>\n",
              "      <td>0</td>\n",
              "      <td>0</td>\n",
              "      <td>0</td>\n",
              "      <td>0</td>\n",
              "      <td>0</td>\n",
              "      <td>0</td>\n",
              "      <td>0</td>\n",
              "      <td>0</td>\n",
              "      <td>0</td>\n",
              "      <td>0</td>\n",
              "      <td>0</td>\n",
              "      <td>0</td>\n",
              "      <td>0</td>\n",
              "      <td>0</td>\n",
              "      <td>0</td>\n",
              "      <td>0</td>\n",
              "      <td>...</td>\n",
              "      <td>0</td>\n",
              "      <td>0</td>\n",
              "      <td>0</td>\n",
              "      <td>0</td>\n",
              "      <td>0</td>\n",
              "      <td>0</td>\n",
              "      <td>0</td>\n",
              "      <td>0</td>\n",
              "      <td>0</td>\n",
              "      <td>0</td>\n",
              "      <td>0</td>\n",
              "      <td>0</td>\n",
              "      <td>0</td>\n",
              "      <td>0</td>\n",
              "      <td>0</td>\n",
              "      <td>0</td>\n",
              "      <td>0</td>\n",
              "      <td>0</td>\n",
              "      <td>0</td>\n",
              "      <td>0</td>\n",
              "      <td>0</td>\n",
              "      <td>0</td>\n",
              "      <td>1</td>\n",
              "      <td>0</td>\n",
              "      <td>0</td>\n",
              "      <td>0</td>\n",
              "      <td>0</td>\n",
              "      <td>0</td>\n",
              "      <td>0</td>\n",
              "      <td>0</td>\n",
              "      <td>1</td>\n",
              "      <td>0</td>\n",
              "      <td>0</td>\n",
              "      <td>0</td>\n",
              "      <td>0</td>\n",
              "      <td>0</td>\n",
              "      <td>0</td>\n",
              "      <td>0</td>\n",
              "      <td>0</td>\n",
              "      <td>0</td>\n",
              "    </tr>\n",
              "    <tr>\n",
              "      <th>4</th>\n",
              "      <td>0</td>\n",
              "      <td>0</td>\n",
              "      <td>0</td>\n",
              "      <td>0</td>\n",
              "      <td>0</td>\n",
              "      <td>0</td>\n",
              "      <td>1</td>\n",
              "      <td>0</td>\n",
              "      <td>1</td>\n",
              "      <td>0</td>\n",
              "      <td>0</td>\n",
              "      <td>0</td>\n",
              "      <td>0</td>\n",
              "      <td>0</td>\n",
              "      <td>0</td>\n",
              "      <td>0</td>\n",
              "      <td>0</td>\n",
              "      <td>0</td>\n",
              "      <td>0</td>\n",
              "      <td>0</td>\n",
              "      <td>0</td>\n",
              "      <td>0</td>\n",
              "      <td>0</td>\n",
              "      <td>0</td>\n",
              "      <td>0</td>\n",
              "      <td>0</td>\n",
              "      <td>0</td>\n",
              "      <td>0</td>\n",
              "      <td>0</td>\n",
              "      <td>0</td>\n",
              "      <td>0</td>\n",
              "      <td>0</td>\n",
              "      <td>0</td>\n",
              "      <td>0</td>\n",
              "      <td>0</td>\n",
              "      <td>0</td>\n",
              "      <td>0</td>\n",
              "      <td>0</td>\n",
              "      <td>0</td>\n",
              "      <td>0</td>\n",
              "      <td>...</td>\n",
              "      <td>0</td>\n",
              "      <td>0</td>\n",
              "      <td>0</td>\n",
              "      <td>0</td>\n",
              "      <td>1</td>\n",
              "      <td>0</td>\n",
              "      <td>0</td>\n",
              "      <td>0</td>\n",
              "      <td>0</td>\n",
              "      <td>0</td>\n",
              "      <td>0</td>\n",
              "      <td>0</td>\n",
              "      <td>0</td>\n",
              "      <td>0</td>\n",
              "      <td>0</td>\n",
              "      <td>0</td>\n",
              "      <td>0</td>\n",
              "      <td>0</td>\n",
              "      <td>0</td>\n",
              "      <td>0</td>\n",
              "      <td>0</td>\n",
              "      <td>0</td>\n",
              "      <td>0</td>\n",
              "      <td>0</td>\n",
              "      <td>1</td>\n",
              "      <td>0</td>\n",
              "      <td>0</td>\n",
              "      <td>0</td>\n",
              "      <td>0</td>\n",
              "      <td>1</td>\n",
              "      <td>0</td>\n",
              "      <td>0</td>\n",
              "      <td>0</td>\n",
              "      <td>0</td>\n",
              "      <td>0</td>\n",
              "      <td>0</td>\n",
              "      <td>0</td>\n",
              "      <td>0</td>\n",
              "      <td>0</td>\n",
              "      <td>0</td>\n",
              "    </tr>\n",
              "  </tbody>\n",
              "</table>\n",
              "<p>5 rows × 152 columns</p>\n",
              "</div>"
            ],
            "text/plain": [
              "   harm_env_Curb  harm_env_Ditch  ...  weather_unknown  weather_unreported\n",
              "0              0               0  ...                0                   0\n",
              "1              0               1  ...                0                   0\n",
              "2              0               0  ...                0                   0\n",
              "3              0               0  ...                0                   0\n",
              "4              0               0  ...                0                   0\n",
              "\n",
              "[5 rows x 152 columns]"
            ]
          },
          "metadata": {
            "tags": []
          },
          "execution_count": 41
        }
      ]
    },
    {
      "cell_type": "markdown",
      "metadata": {
        "id": "ZqO5AE8HdHlB"
      },
      "source": [
        "Our number of columns will be more now. It's because for every categorical (or) string variable columns, we convert them into numerical based on (0 or 1) format. So now its a numerical column\n",
        "\n",
        "**Machine Learning Model only can train with NUMERICAL VALUES**"
      ]
    },
    {
      "cell_type": "code",
      "metadata": {
        "colab": {
          "base_uri": "https://localhost:8080/"
        },
        "id": "q6BYFFQ7eId5",
        "outputId": "a167302b-7491-44a4-fc20-835d45dc51cb"
      },
      "source": [
        "# Checking if the values 0 or 1 are there , only getting 1 - Yes , 0 - No values\n",
        "\n",
        "model_data['DRUNK_DR'] = model_data['DRUNK_DR'].apply(lambda x: 0 if (x==0)  else 1)\n",
        "model_data['DRUNK_DR'].value_counts()\n"
      ],
      "execution_count": 42,
      "outputs": [
        {
          "output_type": "stream",
          "text": [
            "/usr/local/lib/python3.6/dist-packages/ipykernel_launcher.py:3: SettingWithCopyWarning: \n",
            "A value is trying to be set on a copy of a slice from a DataFrame.\n",
            "Try using .loc[row_indexer,col_indexer] = value instead\n",
            "\n",
            "See the caveats in the documentation: https://pandas.pydata.org/pandas-docs/stable/user_guide/indexing.html#returning-a-view-versus-a-copy\n",
            "  This is separate from the ipykernel package so we can avoid doing imports until\n"
          ],
          "name": "stderr"
        },
        {
          "output_type": "execute_result",
          "data": {
            "text/plain": [
              "0    23310\n",
              "1     8856\n",
              "Name: DRUNK_DR, dtype: int64"
            ]
          },
          "metadata": {
            "tags": []
          },
          "execution_count": 42
        }
      ]
    },
    {
      "cell_type": "markdown",
      "metadata": {
        "id": "-WdUfJDgfaK5"
      },
      "source": [
        "## Modelling\n",
        "\n",
        "It's the Machine Learning part, where we will put an end for analysis and get our data to prepare for Predictive Analysis. \n",
        "\n",
        "We will build a model now which can be used in future to predict **Whether the person who made the accident is drunken or sober**\n",
        "\n",
        "This can be used on data which has similar format or patterns like this data, our model can able to predict that particular person is drunken or not by using the data given"
      ]
    },
    {
      "cell_type": "code",
      "metadata": {
        "id": "Oq7EV2n4iVVl"
      },
      "source": [
        "# Importing the packages needed , here we are using DecisionTree Classifier\n",
        "\n",
        "from sklearn.tree import DecisionTreeClassifier\n",
        "from sklearn import preprocessing"
      ],
      "execution_count": 43,
      "outputs": []
    },
    {
      "cell_type": "code",
      "metadata": {
        "colab": {
          "base_uri": "https://localhost:8080/"
        },
        "id": "6tzuq4fNibeE",
        "outputId": "9cbedfb7-d23d-48c6-eb13-4aa89739806a"
      },
      "source": [
        "# Label encoder for encoding the target labels \n",
        "lab_enc  = preprocessing.LabelEncoder()\n",
        "\n",
        "# Fitting the label encoder into the target variables \n",
        "y = lab_enc.fit_transform(model_data['DRUNK_DR'])\n",
        "\n",
        "# Checking the numpy array , from numerical we converted into numpy array.\n",
        "y"
      ],
      "execution_count": 44,
      "outputs": [
        {
          "output_type": "execute_result",
          "data": {
            "text/plain": [
              "array([1, 0, 1, ..., 0, 0, 0])"
            ]
          },
          "metadata": {
            "tags": []
          },
          "execution_count": 44
        }
      ]
    },
    {
      "cell_type": "markdown",
      "metadata": {
        "id": "cWKz4c79iZhg"
      },
      "source": [
        "Here we are using Decision Tree Classifier to find out **Is the driver Drunk or Sober or not drunk**"
      ]
    },
    {
      "cell_type": "code",
      "metadata": {
        "colab": {
          "base_uri": "https://localhost:8080/"
        },
        "id": "cpI276BujG08",
        "outputId": "db87424d-d6c8-4bb0-b468-76b85ec06056"
      },
      "source": [
        "# Instantiating the model\n",
        "clf = DecisionTreeClassifier(max_depth=4)\n",
        "\n",
        "# Fitting the model to the data\n",
        "clf.fit(x.values , y)"
      ],
      "execution_count": 45,
      "outputs": [
        {
          "output_type": "execute_result",
          "data": {
            "text/plain": [
              "DecisionTreeClassifier(ccp_alpha=0.0, class_weight=None, criterion='gini',\n",
              "                       max_depth=4, max_features=None, max_leaf_nodes=None,\n",
              "                       min_impurity_decrease=0.0, min_impurity_split=None,\n",
              "                       min_samples_leaf=1, min_samples_split=2,\n",
              "                       min_weight_fraction_leaf=0.0, presort='deprecated',\n",
              "                       random_state=None, splitter='best')"
            ]
          },
          "metadata": {
            "tags": []
          },
          "execution_count": 45
        }
      ]
    },
    {
      "cell_type": "code",
      "metadata": {
        "colab": {
          "base_uri": "https://localhost:8080/"
        },
        "id": "61x-MSc2jUlh",
        "outputId": "4114c67a-af4e-4791-b4ef-7d5e628d342b"
      },
      "source": [
        "# Splitting our data into X and Y \n",
        "\n",
        "from sklearn.model_selection import train_test_split\n",
        "\n",
        "X_train , X_test , y_train , y_test = train_test_split(x , y , test_size = 0.2 , random_state = 42 )\n",
        "\n",
        "X_train.shape , X_test.shape , y_train.shape , y_test.shape"
      ],
      "execution_count": 46,
      "outputs": [
        {
          "output_type": "execute_result",
          "data": {
            "text/plain": [
              "((25732, 152), (6434, 152), (25732,), (6434,))"
            ]
          },
          "metadata": {
            "tags": []
          },
          "execution_count": 46
        }
      ]
    },
    {
      "cell_type": "code",
      "metadata": {
        "colab": {
          "base_uri": "https://localhost:8080/"
        },
        "id": "JmSmPR-Z5h_S",
        "outputId": "acf984d9-2290-4ed5-f0b8-da9e241b231c"
      },
      "source": [
        "# Fitting the model again in the train split \n",
        "\n",
        "clf.fit(X_train , y_train)"
      ],
      "execution_count": 47,
      "outputs": [
        {
          "output_type": "execute_result",
          "data": {
            "text/plain": [
              "DecisionTreeClassifier(ccp_alpha=0.0, class_weight=None, criterion='gini',\n",
              "                       max_depth=4, max_features=None, max_leaf_nodes=None,\n",
              "                       min_impurity_decrease=0.0, min_impurity_split=None,\n",
              "                       min_samples_leaf=1, min_samples_split=2,\n",
              "                       min_weight_fraction_leaf=0.0, presort='deprecated',\n",
              "                       random_state=None, splitter='best')"
            ]
          },
          "metadata": {
            "tags": []
          },
          "execution_count": 47
        }
      ]
    },
    {
      "cell_type": "code",
      "metadata": {
        "colab": {
          "base_uri": "https://localhost:8080/"
        },
        "id": "49H5G3Ku7z7B",
        "outputId": "0e9fc094-6c10-47a3-9161-a6ae6f6481e7"
      },
      "source": [
        "# Getting the score in the test set \n",
        "\n",
        "clf.score(X_test , y_test)"
      ],
      "execution_count": 48,
      "outputs": [
        {
          "output_type": "execute_result",
          "data": {
            "text/plain": [
              "0.7429281939695368"
            ]
          },
          "metadata": {
            "tags": []
          },
          "execution_count": 48
        }
      ]
    },
    {
      "cell_type": "markdown",
      "metadata": {
        "id": "7AH_y1BE8SWB"
      },
      "source": [
        "### Fitting the model in different models and observing the results \n",
        "\n",
        "We already tested our data on Decision Tree Classifier, which gave us accuracy of **74%**. \n",
        "\n",
        "But out of curiosity let's fit our data into other similar classifier's (or) models and find out what **accuracy** those models can bring to us."
      ]
    },
    {
      "cell_type": "code",
      "metadata": {
        "id": "PREwlfT18ylx"
      },
      "source": [
        "# Packages needed to import \n",
        "\n",
        "from sklearn.metrics import accuracy_score, log_loss\n",
        "from sklearn.neighbors import KNeighborsClassifier\n",
        "from sklearn.svm import SVC, LinearSVC\n",
        "from sklearn.ensemble import RandomForestClassifier, AdaBoostClassifier, GradientBoostingClassifier\n",
        "from sklearn.naive_bayes import GaussianNB\n",
        "from sklearn.discriminant_analysis import LinearDiscriminantAnalysis"
      ],
      "execution_count": 49,
      "outputs": []
    },
    {
      "cell_type": "code",
      "metadata": {
        "colab": {
          "base_uri": "https://localhost:8080/"
        },
        "id": "VMmHFvpb85zM",
        "outputId": "ac6d18e4-be42-478a-ce7e-7701172b695a"
      },
      "source": [
        "# Below we are instantating the models we are going to use and compare \n",
        "\n",
        "classifiers = [\n",
        "    KNeighborsClassifier(3),\n",
        "    SVC(kernel=\"rbf\", C=0.025, probability=True),\n",
        "    #DecisionTreeClassifier(),\n",
        "    RandomForestClassifier(),\n",
        "    AdaBoostClassifier(),\n",
        "    GradientBoostingClassifier(),\n",
        "    GaussianNB(),\n",
        "    LinearDiscriminantAnalysis()]\n",
        "\n",
        "\n",
        "classifiers"
      ],
      "execution_count": 50,
      "outputs": [
        {
          "output_type": "execute_result",
          "data": {
            "text/plain": [
              "[KNeighborsClassifier(algorithm='auto', leaf_size=30, metric='minkowski',\n",
              "                      metric_params=None, n_jobs=None, n_neighbors=3, p=2,\n",
              "                      weights='uniform'),\n",
              " SVC(C=0.025, break_ties=False, cache_size=200, class_weight=None, coef0=0.0,\n",
              "     decision_function_shape='ovr', degree=3, gamma='scale', kernel='rbf',\n",
              "     max_iter=-1, probability=True, random_state=None, shrinking=True, tol=0.001,\n",
              "     verbose=False),\n",
              " RandomForestClassifier(bootstrap=True, ccp_alpha=0.0, class_weight=None,\n",
              "                        criterion='gini', max_depth=None, max_features='auto',\n",
              "                        max_leaf_nodes=None, max_samples=None,\n",
              "                        min_impurity_decrease=0.0, min_impurity_split=None,\n",
              "                        min_samples_leaf=1, min_samples_split=2,\n",
              "                        min_weight_fraction_leaf=0.0, n_estimators=100,\n",
              "                        n_jobs=None, oob_score=False, random_state=None,\n",
              "                        verbose=0, warm_start=False),\n",
              " AdaBoostClassifier(algorithm='SAMME.R', base_estimator=None, learning_rate=1.0,\n",
              "                    n_estimators=50, random_state=None),\n",
              " GradientBoostingClassifier(ccp_alpha=0.0, criterion='friedman_mse', init=None,\n",
              "                            learning_rate=0.1, loss='deviance', max_depth=3,\n",
              "                            max_features=None, max_leaf_nodes=None,\n",
              "                            min_impurity_decrease=0.0, min_impurity_split=None,\n",
              "                            min_samples_leaf=1, min_samples_split=2,\n",
              "                            min_weight_fraction_leaf=0.0, n_estimators=100,\n",
              "                            n_iter_no_change=None, presort='deprecated',\n",
              "                            random_state=None, subsample=1.0, tol=0.0001,\n",
              "                            validation_fraction=0.1, verbose=0,\n",
              "                            warm_start=False),\n",
              " GaussianNB(priors=None, var_smoothing=1e-09),\n",
              " LinearDiscriminantAnalysis(n_components=None, priors=None, shrinkage=None,\n",
              "                            solver='svd', store_covariance=False, tol=0.0001)]"
            ]
          },
          "metadata": {
            "tags": []
          },
          "execution_count": 50
        }
      ]
    },
    {
      "cell_type": "code",
      "metadata": {
        "colab": {
          "base_uri": "https://localhost:8080/"
        },
        "id": "AUMqGNGi9Llz",
        "outputId": "818c2024-9527-4abe-902f-104ecf68e877"
      },
      "source": [
        "# Logging these scores and losses for our observation\n",
        "\n",
        "log_cols=[\"Classifier\", \"Accuracy\", \"Log Loss\"]\n",
        "log = pd.DataFrame(columns=log_cols)\n",
        "\n",
        "for clf in classifiers:\n",
        "    clf.fit(X_train, y_train)\n",
        "    name = clf.__class__.__name__\n",
        "    \n",
        "    print(\"#\"*30)\n",
        "    print(name)\n",
        "    \n",
        "    print('****Results****')\n",
        "    train_predictions = clf.predict(X_test)\n",
        "    acc = accuracy_score(y_test, train_predictions)\n",
        "    print(\"Accuracy: {:.4%}\".format(acc))\n",
        "    \n",
        "    train_predictions = clf.predict_proba(X_test)\n",
        "    ll = log_loss(y_test, train_predictions)\n",
        "    print(\"Log Loss: {}\".format(ll))\n",
        "    \n",
        "    log_entry = pd.DataFrame([[name, acc*100, ll]], columns=log_cols)\n",
        "    log = log.append(log_entry)\n",
        "    \n",
        "print(\"#\"*30)"
      ],
      "execution_count": 51,
      "outputs": [
        {
          "output_type": "stream",
          "text": [
            "##############################\n",
            "KNeighborsClassifier\n",
            "****Results****\n",
            "Accuracy: 69.1172%\n",
            "Log Loss: 3.8387908150697188\n",
            "##############################\n",
            "SVC\n",
            "****Results****\n",
            "Accuracy: 72.1169%\n",
            "Log Loss: 0.5129635935950154\n",
            "##############################\n",
            "RandomForestClassifier\n",
            "****Results****\n",
            "Accuracy: 75.4119%\n",
            "Log Loss: 0.5203254538267872\n",
            "##############################\n",
            "AdaBoostClassifier\n",
            "****Results****\n",
            "Accuracy: 76.4998%\n",
            "Log Loss: 0.6827108613866437\n",
            "##############################\n",
            "GradientBoostingClassifier\n",
            "****Results****\n",
            "Accuracy: 76.0025%\n",
            "Log Loss: 0.4872837131361681\n",
            "##############################\n",
            "GaussianNB\n",
            "****Results****\n",
            "Accuracy: 69.4125%\n",
            "Log Loss: 3.777881436573169\n",
            "##############################\n",
            "LinearDiscriminantAnalysis\n",
            "****Results****\n",
            "Accuracy: 76.8262%\n",
            "Log Loss: 0.47855481997608795\n",
            "##############################\n"
          ],
          "name": "stdout"
        }
      ]
    },
    {
      "cell_type": "markdown",
      "metadata": {
        "id": "ob_RjR9WC-aX"
      },
      "source": [
        "#### Below we are observing the model's performance and loss by plotting them in graph for better visualization"
      ]
    },
    {
      "cell_type": "code",
      "metadata": {
        "colab": {
          "base_uri": "https://localhost:8080/",
          "height": 682
        },
        "id": "9KbGQX059yE4",
        "outputId": "33ec6cf2-42f6-4b11-f4bb-4a8aee488589"
      },
      "source": [
        "# Setting up the figsize here \n",
        "fig , ax = plt.subplots(figsize = (12 , 6))\n",
        "\n",
        "sns.barplot(x='Accuracy', y='Classifier', data=log , ax=ax)\n",
        "\n",
        "plt.xlabel('Accuracy %')\n",
        "plt.title('Classifier Accuracy')\n",
        "plt.show()\n",
        "\n",
        "sns.barplot(x='Log Loss', y='Classifier', data=log)\n",
        "\n",
        "plt.xlabel('Log Loss')\n",
        "plt.title('Classifier Log Loss')\n",
        "plt.show()"
      ],
      "execution_count": 52,
      "outputs": [
        {
          "output_type": "display_data",
          "data": {
            "image/png": "[encoded data removed]",
            "text/plain": [
              "<Figure size 864x432 with 1 Axes>"
            ]
          },
          "metadata": {
            "tags": [],
            "needs_background": "light"
          }
        },
        {
          "output_type": "display_data",
          "data": {
            "image/png": "[encoded data removed]",
            "text/plain": [
              "<Figure size 432x288 with 1 Axes>"
            ]
          },
          "metadata": {
            "tags": [],
            "needs_background": "light"
          }
        }
      ]
    },
    {
      "cell_type": "code",
      "metadata": {
        "id": "_GInQzshPFwG"
      },
      "source": [
        ""
      ],
      "execution_count": 52,
      "outputs": []
    }
  ]
}